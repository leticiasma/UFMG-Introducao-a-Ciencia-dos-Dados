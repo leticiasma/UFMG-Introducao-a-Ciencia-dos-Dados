{
 "cells": [
  {
   "cell_type": "markdown",
   "metadata": {
    "deletable": false,
    "editable": false,
    "nbgrader": {
     "cell_type": "markdown",
     "checksum": "0e120e1b654bc38ffc686a964e6cc7ba",
     "grade": false,
     "grade_id": "cell-75fa16f93b279502",
     "locked": true,
     "schema_version": 3,
     "solution": false,
     "task": false
    }
   },
   "source": [
    "# Lista 05 - IC + Teste de Hipóteses"
   ]
  },
  {
   "cell_type": "code",
   "execution_count": 1,
   "metadata": {
    "deletable": false,
    "editable": false,
    "nbgrader": {
     "cell_type": "code",
     "checksum": "efa9fa4d7c64847f35885cb915e005a4",
     "grade": false,
     "grade_id": "cell-a5aa0941d0a7d477",
     "locked": true,
     "schema_version": 3,
     "solution": false,
     "task": false
    }
   },
   "outputs": [],
   "source": [
    "import pandas as pd\n",
    "import matplotlib.pyplot as plt\n",
    "import numpy as np\n",
    "import math\n",
    "\n",
    "from scipy.stats import binom"
   ]
  },
  {
   "cell_type": "markdown",
   "metadata": {
    "deletable": false,
    "editable": false,
    "nbgrader": {
     "cell_type": "markdown",
     "checksum": "c5d5bb972e7c072ed73319ecd610cdc0",
     "grade": false,
     "grade_id": "cell-50122483e082f1ba",
     "locked": true,
     "schema_version": 3,
     "solution": false,
     "task": false
    }
   },
   "source": [
    "# Exercício 1\n",
    "\n",
    "Utilize o dataset dados-covid-mg para explorar a seguinte hipótese:\n",
    "\n",
    "Hipótese: Em MG cerca de 50% da população já foi detectada com COVID.\n",
    "\n",
    "Dataset obtido no openDataSUS, um recorte do estado de MG. Para facilitar, algumas colunas foram removidas e o atributo classificacaoFinal foi binarizado."
   ]
  },
  {
   "cell_type": "code",
   "execution_count": 2,
   "metadata": {
    "deletable": false,
    "editable": false,
    "nbgrader": {
     "cell_type": "code",
     "checksum": "44ba63b4803d796bb238136dfa5f6c7b",
     "grade": false,
     "grade_id": "cell-9129ebc281fc622a",
     "locked": true,
     "schema_version": 3,
     "solution": false,
     "task": false
    }
   },
   "outputs": [
    {
     "data": {
      "text/html": [
       "<div>\n",
       "<style scoped>\n",
       "    .dataframe tbody tr th:only-of-type {\n",
       "        vertical-align: middle;\n",
       "    }\n",
       "\n",
       "    .dataframe tbody tr th {\n",
       "        vertical-align: top;\n",
       "    }\n",
       "\n",
       "    .dataframe thead th {\n",
       "        text-align: right;\n",
       "    }\n",
       "</style>\n",
       "<table border=\"1\" class=\"dataframe\">\n",
       "  <thead>\n",
       "    <tr style=\"text-align: right;\">\n",
       "      <th></th>\n",
       "      <th>id</th>\n",
       "      <th>profissionalSaude</th>\n",
       "      <th>tipoTeste</th>\n",
       "      <th>resultadoTeste</th>\n",
       "      <th>estado</th>\n",
       "      <th>municipio</th>\n",
       "      <th>classificacaoFinal</th>\n",
       "    </tr>\n",
       "  </thead>\n",
       "  <tbody>\n",
       "    <tr>\n",
       "      <th>0</th>\n",
       "      <td>R3y2Di9K0s</td>\n",
       "      <td>Não</td>\n",
       "      <td>RT-PCR</td>\n",
       "      <td>Negativo</td>\n",
       "      <td>MINAS GERAIS</td>\n",
       "      <td>Varginha</td>\n",
       "      <td>0</td>\n",
       "    </tr>\n",
       "    <tr>\n",
       "      <th>1</th>\n",
       "      <td>4awz0HPaCl</td>\n",
       "      <td>Sim</td>\n",
       "      <td>RT-PCR</td>\n",
       "      <td>Negativo</td>\n",
       "      <td>MINAS GERAIS</td>\n",
       "      <td>Carmópolis de Minas</td>\n",
       "      <td>0</td>\n",
       "    </tr>\n",
       "    <tr>\n",
       "      <th>2</th>\n",
       "      <td>0RjrlH0bs5</td>\n",
       "      <td>Não</td>\n",
       "      <td>NaN</td>\n",
       "      <td>NaN</td>\n",
       "      <td>MINAS GERAIS</td>\n",
       "      <td>Conselheiro Lafaiete</td>\n",
       "      <td>0</td>\n",
       "    </tr>\n",
       "    <tr>\n",
       "      <th>3</th>\n",
       "      <td>83B4gJDLpU</td>\n",
       "      <td>Não</td>\n",
       "      <td>NaN</td>\n",
       "      <td>NaN</td>\n",
       "      <td>MINAS GERAIS</td>\n",
       "      <td>Mariana</td>\n",
       "      <td>0</td>\n",
       "    </tr>\n",
       "    <tr>\n",
       "      <th>4</th>\n",
       "      <td>H8GKXacI4T</td>\n",
       "      <td>Não</td>\n",
       "      <td>NaN</td>\n",
       "      <td>NaN</td>\n",
       "      <td>MINAS GERAIS</td>\n",
       "      <td>Januária</td>\n",
       "      <td>0</td>\n",
       "    </tr>\n",
       "  </tbody>\n",
       "</table>\n",
       "</div>"
      ],
      "text/plain": [
       "           id profissionalSaude tipoTeste resultadoTeste        estado  \\\n",
       "0  R3y2Di9K0s               Não    RT-PCR       Negativo  MINAS GERAIS   \n",
       "1  4awz0HPaCl               Sim    RT-PCR       Negativo  MINAS GERAIS   \n",
       "2  0RjrlH0bs5               Não       NaN            NaN  MINAS GERAIS   \n",
       "3  83B4gJDLpU               Não       NaN            NaN  MINAS GERAIS   \n",
       "4  H8GKXacI4T               Não       NaN            NaN  MINAS GERAIS   \n",
       "\n",
       "              municipio  classificacaoFinal  \n",
       "0              Varginha                   0  \n",
       "1   Carmópolis de Minas                   0  \n",
       "2  Conselheiro Lafaiete                   0  \n",
       "3               Mariana                   0  \n",
       "4              Januária                   0  "
      ]
     },
     "execution_count": 2,
     "metadata": {},
     "output_type": "execute_result"
    }
   ],
   "source": [
    "df = pd.read_csv('dados-covid-mg.csv')\n",
    "df.head()"
   ]
  },
  {
   "cell_type": "markdown",
   "metadata": {
    "deletable": false,
    "editable": false,
    "nbgrader": {
     "cell_type": "markdown",
     "checksum": "31de4ebb0b9b96a2ff0e624ba07d5516",
     "grade": false,
     "grade_id": "cell-3b461941ee919668",
     "locked": true,
     "schema_version": 3,
     "solution": false,
     "task": false
    }
   },
   "source": [
    "A) Calcule a prevalência de infectados na amostra, armazene na variável p."
   ]
  },
  {
   "cell_type": "code",
   "execution_count": 3,
   "metadata": {
    "deletable": false,
    "nbgrader": {
     "cell_type": "code",
     "checksum": "ed8dd2702bf31724f277ef638431b462",
     "grade": false,
     "grade_id": "cell-bec5d63ea34dcdd3",
     "locked": false,
     "schema_version": 3,
     "solution": true,
     "task": false
    }
   },
   "outputs": [],
   "source": [
    "# YOUR CODE HERE\n",
    "classif = np.array(df[\"classificacaoFinal\"])\n",
    "p = (classif == 1).sum()/len(classif)"
   ]
  },
  {
   "cell_type": "code",
   "execution_count": 4,
   "metadata": {},
   "outputs": [
    {
     "data": {
      "text/plain": [
       "0.409622523888832"
      ]
     },
     "execution_count": 4,
     "metadata": {},
     "output_type": "execute_result"
    }
   ],
   "source": [
    "#Resposta\n",
    "p"
   ]
  },
  {
   "cell_type": "markdown",
   "metadata": {
    "deletable": false,
    "editable": false,
    "nbgrader": {
     "cell_type": "markdown",
     "checksum": "bc530b994dadc85effea8585295051dd",
     "grade": false,
     "grade_id": "cell-871ea00a3fea6962",
     "locked": true,
     "schema_version": 3,
     "solution": false,
     "task": false
    }
   },
   "source": [
    "B) Calcule a variância (utilizando p), armazene em var."
   ]
  },
  {
   "cell_type": "code",
   "execution_count": 5,
   "metadata": {
    "deletable": false,
    "nbgrader": {
     "cell_type": "code",
     "checksum": "ca91d6171af82592ac16876dd9bf4c3e",
     "grade": false,
     "grade_id": "cell-7516a8a398eab1b0",
     "locked": false,
     "schema_version": 3,
     "solution": true,
     "task": false
    }
   },
   "outputs": [],
   "source": [
    "# YOUR CODE HERE\n",
    "var = p*(1-p)"
   ]
  },
  {
   "cell_type": "code",
   "execution_count": 6,
   "metadata": {},
   "outputs": [
    {
     "data": {
      "text/plain": [
       "0.24183191181177527"
      ]
     },
     "execution_count": 6,
     "metadata": {},
     "output_type": "execute_result"
    }
   ],
   "source": [
    "#Resposta\n",
    "var"
   ]
  },
  {
   "cell_type": "markdown",
   "metadata": {
    "deletable": false,
    "editable": false,
    "nbgrader": {
     "cell_type": "markdown",
     "checksum": "47aa887fef43f3f66d9611a6b4a62f8e",
     "grade": false,
     "grade_id": "cell-789a68d867294cae",
     "locked": true,
     "schema_version": 3,
     "solution": false,
     "task": false
    }
   },
   "source": [
    "C) Calcule o intervalo de confiança dessa estimativa, considerando 95% de chance. O resultado deve ser uma tupla a,b armazenada em ic."
   ]
  },
  {
   "cell_type": "code",
   "execution_count": 7,
   "metadata": {
    "deletable": false,
    "nbgrader": {
     "cell_type": "code",
     "checksum": "e3463465b872b6ab7989109e78780dfc",
     "grade": false,
     "grade_id": "cell-6ec307f2b8d87f34",
     "locked": false,
     "schema_version": 3,
     "solution": true,
     "task": false
    }
   },
   "outputs": [],
   "source": [
    "# YOUR CODE HERE\n",
    "media = p\n",
    "desvio_padrao = math.sqrt(var)\n",
    "raiz_n = math.sqrt(len(classif))\n",
    "\n",
    "inferior = media - 1.96*(desvio_padrao/raiz_n)\n",
    "superior = media + 1.96*(desvio_padrao/raiz_n)\n",
    "\n",
    "ic = (inferior, superior)"
   ]
  },
  {
   "cell_type": "code",
   "execution_count": 8,
   "metadata": {},
   "outputs": [
    {
     "data": {
      "text/plain": [
       "(0.40754359272076335, 0.4117014550569007)"
      ]
     },
     "execution_count": 8,
     "metadata": {},
     "output_type": "execute_result"
    }
   ],
   "source": [
    "#Resposta\n",
    "ic"
   ]
  },
  {
   "cell_type": "markdown",
   "metadata": {
    "deletable": false,
    "editable": false,
    "nbgrader": {
     "cell_type": "markdown",
     "checksum": "7ce18ccfd2a1f7136b45b59e185c1488",
     "grade": false,
     "grade_id": "cell-cf9c58dd514d5e5a",
     "locked": true,
     "schema_version": 3,
     "solution": false,
     "task": false
    }
   },
   "source": [
    "D) Quais as afirmações analíticas podem ser feitas com base nessa exploração? Se julgar necessário plote gráficos que corroborem a análise."
   ]
  },
  {
   "cell_type": "markdown",
   "metadata": {
    "deletable": false,
    "nbgrader": {
     "cell_type": "code",
     "checksum": "40ffd47e017fd761102498065191b749",
     "grade": true,
     "grade_id": "cell-372b0da9e8729747",
     "locked": false,
     "points": 1,
     "schema_version": 3,
     "solution": true,
     "task": false
    }
   },
   "source": [
    "Com base no intervalo de confiança (ic = (0.40754359272076335, 0.4117014550569007)) e no valor encontrado para a prevalência \n",
    "de infectados na amostra (p = 0.409622523888832) podemos, analiticamente, dizer que a hipótese não parece ser factível, já que 0.5 não está no intervalo de confiança e p = 0.409622523888832. Logo, dizer que em MG cerca de 50% da população já foi detectada com COVID não parece correto."
   ]
  },
  {
   "cell_type": "markdown",
   "metadata": {
    "deletable": false,
    "editable": false,
    "nbgrader": {
     "cell_type": "markdown",
     "checksum": "4921471dba3ff9fdfe6a773b91826c3e",
     "grade": false,
     "grade_id": "cell-ef3ae0cc47a50adf",
     "locked": true,
     "schema_version": 3,
     "solution": false,
     "task": false
    }
   },
   "source": [
    "# Exercício 2\n",
    "\n",
    "Hipótese Nula: A prevalência de COVID para profissionais de saúde é igual a de não profissionais de saúde.\n",
    "\n",
    "Utilize o teste de permutação para randomizando os dados, aproximar o p-valor e validar se a hipótese é aceita."
   ]
  },
  {
   "cell_type": "code",
   "execution_count": 9,
   "metadata": {
    "deletable": false,
    "editable": false,
    "nbgrader": {
     "cell_type": "code",
     "checksum": "e26f59e78bc28f43c77548c120df5715",
     "grade": false,
     "grade_id": "cell-392a1d5f2eb713c3",
     "locked": true,
     "schema_version": 3,
     "solution": false,
     "task": false
    }
   },
   "outputs": [],
   "source": [
    "#Convertendo as series para numpy\n",
    "profissionais = df['profissionalSaude'].to_numpy()\n",
    "classificacaoFinal = df['classificacaoFinal'].to_numpy()"
   ]
  },
  {
   "cell_type": "markdown",
   "metadata": {
    "deletable": false,
    "editable": false,
    "nbgrader": {
     "cell_type": "markdown",
     "checksum": "24fa136d5cbc9e161eabadd8d03a6fa2",
     "grade": false,
     "grade_id": "cell-5528fde7d0549f46",
     "locked": true,
     "schema_version": 3,
     "solution": false,
     "task": false
    }
   },
   "source": [
    "A) Calcule t_obs, armazene em t_obs."
   ]
  },
  {
   "cell_type": "code",
   "execution_count": 10,
   "metadata": {
    "deletable": false,
    "nbgrader": {
     "cell_type": "code",
     "checksum": "fc5a2527cce73ab85c01241922e41f29",
     "grade": false,
     "grade_id": "cell-86fdaf9bb0e28fbd",
     "locked": false,
     "schema_version": 3,
     "solution": true,
     "task": false
    }
   },
   "outputs": [
    {
     "data": {
      "text/plain": [
       "0.12913123185305075"
      ]
     },
     "execution_count": 10,
     "metadata": {},
     "output_type": "execute_result"
    }
   ],
   "source": [
    "# YOUR CODE HERE\n",
    "\n",
    "prof_saude = df.loc[df['profissionalSaude'] == 'Sim'] #Profissionais de saúde\n",
    "prof_nao_saude = df.loc[df['profissionalSaude'] == 'Não'] #Profissionais que não são de saúde\n",
    "\n",
    "num_saude = len(np.array(prof_saude['classificacaoFinal'])) #Número de profissionais de saúde\n",
    "num_nao_saude = len(np.array(prof_nao_saude['classificacaoFinal'])) #Número de profissionais que não são de saúde\n",
    "\n",
    "df2 = df.loc[df['classificacaoFinal'] == 1] #Pessoas com Covid\n",
    "df3 = df2[['profissionalSaude', 'classificacaoFinal']] #Filtrando colunas de interesse das pessoas com Covid\n",
    "\n",
    "df4 = df3.groupby(by=['profissionalSaude']).sum() #Agrupa, por tipo de profissional, o número total de infectados\n",
    "\n",
    "#Diferênça entre a prevalência de infectados que não são da saúde e infectados profissionais da saúde\n",
    "t_obs = (df4['classificacaoFinal'][0])/num_nao_saude - (df4['classificacaoFinal'][1])/num_saude\n",
    "\n",
    "t_obs"
   ]
  },
  {
   "cell_type": "code",
   "execution_count": 11,
   "metadata": {},
   "outputs": [
    {
     "data": {
      "text/plain": [
       "0.12913123185305075"
      ]
     },
     "execution_count": 11,
     "metadata": {},
     "output_type": "execute_result"
    }
   ],
   "source": [
    "#Resposta\n",
    "t_obs"
   ]
  },
  {
   "cell_type": "markdown",
   "metadata": {
    "deletable": false,
    "editable": false,
    "nbgrader": {
     "cell_type": "markdown",
     "checksum": "6cb0986c09148c98f9076634ebe8a7fc",
     "grade": false,
     "grade_id": "cell-1e66ab597f807728",
     "locked": true,
     "schema_version": 3,
     "solution": false,
     "task": false
    }
   },
   "source": [
    "B) Implemente o teste de permutação para os dados\n",
    "\n",
    "Relembrando: Shuffle, computar diferença média, fazer isso n vezes.\n",
    "\n",
    "Para sua análise utilize o valor de N que considerar adequado, no entanto na entrega fixe N em 1000. Armazene a lista de diferenças em diferencas."
   ]
  },
  {
   "cell_type": "code",
   "execution_count": 12,
   "metadata": {
    "deletable": false,
    "nbgrader": {
     "cell_type": "code",
     "checksum": "c3cdcf889efe81ddc9f3247fe53c021b",
     "grade": true,
     "grade_id": "cell-dd07fc71bd2ba3e3",
     "locked": false,
     "points": 0,
     "schema_version": 3,
     "solution": true,
     "task": false
    }
   },
   "outputs": [],
   "source": [
    "# YOUR CODE HERE\n",
    "N=1000\n",
    "\n",
    "valores = classificacaoFinal\n",
    "\n",
    "diferencas = np.zeros(N) \n",
    "\n",
    "for i in range(N):\n",
    "    grupos = profissionais\n",
    "    np.random.shuffle(grupos)\n",
    "    \n",
    "    dic = {'profissionalSaude':grupos, 'numPrevalencia':valores}\n",
    "    data = pd.DataFrame(dic)\n",
    "    \n",
    "    data2 = data[(data['profissionalSaude'] == 'Sim') | (data['profissionalSaude'] == 'Não')]\n",
    "    \n",
    "    dif = data2.groupby(by=['profissionalSaude']).sum()\n",
    "    \n",
    "    diferencas[i] = (dif['numPrevalencia'][0])/num_nao_saude - (dif['numPrevalencia'][1])/num_saude"
   ]
  },
  {
   "cell_type": "markdown",
   "metadata": {
    "deletable": false,
    "editable": false,
    "nbgrader": {
     "cell_type": "markdown",
     "checksum": "4f4b0f088e9e84336277708ff9335a64",
     "grade": false,
     "grade_id": "cell-4896c0a60838cab2",
     "locked": true,
     "schema_version": 3,
     "solution": false,
     "task": false
    }
   },
   "source": [
    "C) Plote o histograma e avalie qual a chance de um t_obs maior que os dados."
   ]
  },
  {
   "cell_type": "code",
   "execution_count": 13,
   "metadata": {
    "deletable": false,
    "nbgrader": {
     "cell_type": "code",
     "checksum": "4dd83dafe0319972be6029a4b17d9cad",
     "grade": true,
     "grade_id": "cell-f1a0ed8a7bb3e1d0",
     "locked": false,
     "points": 0.5,
     "schema_version": 3,
     "solution": true,
     "task": false
    }
   },
   "outputs": [
    {
     "data": {
      "image/png": "[encoded data removed]",
      "text/plain": [
       "<Figure size 432x288 with 1 Axes>"
      ]
     },
     "metadata": {
      "needs_background": "light"
     },
     "output_type": "display_data"
    }
   ],
   "source": [
    "# YOUR CODE HERE\n",
    "plt.hist(diferencas, bins=30, edgecolor='k')\n",
    "plt.title(\"Diferença entre prevalência de COVID para profissionais de saúde e não profissionais de saúde para 1000 Permutações\")\n",
    "plt.xlabel(\"Diferença na Permutação\")\n",
    "plt.ylabel(\"Pr(diff)\")\n",
    "#plt.ylim(0, 1)\n",
    "plt.axvline(x=t_obs, color='r', linestyle='solid', linewidth=2)\n",
    "plt.show()"
   ]
  },
  {
   "cell_type": "markdown",
   "metadata": {
    "deletable": false,
    "editable": false,
    "nbgrader": {
     "cell_type": "markdown",
     "checksum": "e794ccc316c17b2ff8ce6b80fbfd292c",
     "grade": false,
     "grade_id": "cell-1451182143885334",
     "locked": true,
     "schema_version": 3,
     "solution": false,
     "task": false
    }
   },
   "source": [
    "D) A hipótese nula é aceita ou rejeitada? Explique"
   ]
  },
  {
   "cell_type": "markdown",
   "metadata": {
    "deletable": false,
    "nbgrader": {
     "cell_type": "code",
     "checksum": "acb98867f179189f0c87b8a7bd1e1760",
     "grade": true,
     "grade_id": "cell-828cf92666d6f930",
     "locked": false,
     "points": 0.5,
     "schema_version": 3,
     "solution": true,
     "task": false
    }
   },
   "source": [
    "A hipótese nula é rejeitada, uma vez que o valor observado t_obs = 0.12913123185305075 (linha em vermelho) está muito distante (extremo) do intervalo esperado na hipótese nula. Isto é, o valor-p (probabilidade de encontrar aleatóriamente no mundo nulo um valor mais extremo do que o valor observado) é muito pequeno, fazendo com que a hipótese nula seja pouco factível."
   ]
  },
  {
   "cell_type": "code",
   "execution_count": null,
   "metadata": {},
   "outputs": [],
   "source": []
  }
 ],
 "metadata": {
  "kernelspec": {
   "display_name": "Python 3",
   "language": "python",
   "name": "python3"
  },
  "language_info": {
   "codemirror_mode": {
    "name": "ipython",
    "version": 3
   },
   "file_extension": ".py",
   "mimetype": "text/x-python",
   "name": "python",
   "nbconvert_exporter": "python",
   "pygments_lexer": "ipython3",
   "version": "3.8.3"
  }
 },
 "nbformat": 4,
 "nbformat_minor": 2
}
