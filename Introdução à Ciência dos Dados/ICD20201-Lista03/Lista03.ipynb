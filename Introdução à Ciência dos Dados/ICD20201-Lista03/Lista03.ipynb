{
 "cells": [
  {
   "cell_type": "markdown",
   "metadata": {},
   "source": [
    "Before you turn this problem in, make sure everything runs as expected. First, **restart the kernel** (in the menubar, select Kernel$\\rightarrow$Restart) and then **run all cells** (in the menubar, select Cell$\\rightarrow$Run All).\n",
    "\n",
    "Make sure you fill in any place that says `YOUR CODE HERE` or \"YOUR ANSWER HERE\", as well as your name and collaborators below:"
   ]
  },
  {
   "cell_type": "code",
   "execution_count": 1,
   "metadata": {},
   "outputs": [],
   "source": [
    "NAME = \"Letícia da Silva Macedo Alves\"\n",
    "COLLABORATORS = \"\""
   ]
  },
  {
   "cell_type": "markdown",
   "metadata": {},
   "source": [
    "---"
   ]
  },
  {
   "cell_type": "markdown",
   "metadata": {
    "deletable": false,
    "editable": false,
    "nbgrader": {
     "checksum": "46ba0a510f0b37b94be57292208e1142",
     "grade": false,
     "grade_id": "cellc-a00",
     "locked": true,
     "schema_version": 1,
     "solution": false
    }
   },
   "source": [
    "# Lista 03 - ICs + Bootstrap"
   ]
  },
  {
   "cell_type": "code",
   "execution_count": 2,
   "metadata": {
    "deletable": false,
    "editable": false,
    "nbgrader": {
     "checksum": "f45e046d98afcc020d33a80e9a020879",
     "grade": false,
     "grade_id": "cell-20fe39048e63375d",
     "locked": true,
     "schema_version": 1,
     "solution": false
    }
   },
   "outputs": [],
   "source": [
    "# -*- coding: utf 8\n",
    "\n",
    "from matplotlib import pyplot as plt\n",
    "\n",
    "import pandas as pd\n",
    "import numpy as np\n",
    "\n",
    "plt.style.use('seaborn-colorblind')\n",
    "plt.ion()"
   ]
  },
  {
   "cell_type": "markdown",
   "metadata": {
    "deletable": false,
    "editable": false,
    "nbgrader": {
     "checksum": "66fb4a5c697b1a0ffa9cdab7d8b2aa71",
     "grade": false,
     "grade_id": "cell-9d1ad29e35bed9f4",
     "locked": true,
     "schema_version": 1,
     "solution": false
    }
   },
   "source": [
    "# Exercício 01:\n",
    "Vamos utilizar a base de dados ```enem2015.csv```."
   ]
  },
  {
   "cell_type": "code",
   "execution_count": 3,
   "metadata": {
    "deletable": false,
    "editable": false,
    "nbgrader": {
     "checksum": "51286b135429a810669606de29a3808e",
     "grade": false,
     "grade_id": "cell-e5327430097d8ae9",
     "locked": true,
     "schema_version": 1,
     "solution": false
    }
   },
   "outputs": [
    {
     "data": {
      "text/html": [
       "<div>\n",
       "<style scoped>\n",
       "    .dataframe tbody tr th:only-of-type {\n",
       "        vertical-align: middle;\n",
       "    }\n",
       "\n",
       "    .dataframe tbody tr th {\n",
       "        vertical-align: top;\n",
       "    }\n",
       "\n",
       "    .dataframe thead th {\n",
       "        text-align: right;\n",
       "    }\n",
       "</style>\n",
       "<table border=\"1\" class=\"dataframe\">\n",
       "  <thead>\n",
       "    <tr style=\"text-align: right;\">\n",
       "      <th></th>\n",
       "      <th>DEPENDENCIA_ADMINISTRATIVA</th>\n",
       "      <th>NOTA_MEDIA_ESCOLA</th>\n",
       "      <th>TAXA_DE_APROVACAO</th>\n",
       "      <th>TAXA_DE_PARTICIPACAO</th>\n",
       "    </tr>\n",
       "  </thead>\n",
       "  <tbody>\n",
       "    <tr>\n",
       "      <th>0</th>\n",
       "      <td>Federal</td>\n",
       "      <td>659.258362</td>\n",
       "      <td>92.2</td>\n",
       "      <td>96.894409</td>\n",
       "    </tr>\n",
       "    <tr>\n",
       "      <th>1</th>\n",
       "      <td>Federal</td>\n",
       "      <td>637.646728</td>\n",
       "      <td>86.5</td>\n",
       "      <td>98.717949</td>\n",
       "    </tr>\n",
       "    <tr>\n",
       "      <th>2</th>\n",
       "      <td>Estadual</td>\n",
       "      <td>556.710632</td>\n",
       "      <td>82.5</td>\n",
       "      <td>74.603180</td>\n",
       "    </tr>\n",
       "    <tr>\n",
       "      <th>3</th>\n",
       "      <td>Estadual</td>\n",
       "      <td>542.865967</td>\n",
       "      <td>70.2</td>\n",
       "      <td>54.651165</td>\n",
       "    </tr>\n",
       "    <tr>\n",
       "      <th>4</th>\n",
       "      <td>Estadual</td>\n",
       "      <td>557.379150</td>\n",
       "      <td>67.0</td>\n",
       "      <td>64.864861</td>\n",
       "    </tr>\n",
       "  </tbody>\n",
       "</table>\n",
       "</div>"
      ],
      "text/plain": [
       "  DEPENDENCIA_ADMINISTRATIVA  NOTA_MEDIA_ESCOLA  TAXA_DE_APROVACAO  \\\n",
       "0                    Federal         659.258362               92.2   \n",
       "1                    Federal         637.646728               86.5   \n",
       "2                   Estadual         556.710632               82.5   \n",
       "3                   Estadual         542.865967               70.2   \n",
       "4                   Estadual         557.379150               67.0   \n",
       "\n",
       "   TAXA_DE_PARTICIPACAO  \n",
       "0             96.894409  \n",
       "1             98.717949  \n",
       "2             74.603180  \n",
       "3             54.651165  \n",
       "4             64.864861  "
      ]
     },
     "execution_count": 3,
     "metadata": {},
     "output_type": "execute_result"
    }
   ],
   "source": [
    "df = pd.read_csv('enem2015.csv')\n",
    "df.head()"
   ]
  },
  {
   "cell_type": "code",
   "execution_count": 4,
   "metadata": {
    "deletable": false,
    "editable": false,
    "nbgrader": {
     "checksum": "8de0d2ccc4b086eebd98b25365caf15c",
     "grade": false,
     "grade_id": "cell-64e79d5e266a1710",
     "locked": true,
     "schema_version": 1,
     "solution": false
    }
   },
   "outputs": [
    {
     "data": {
      "text/html": [
       "<div>\n",
       "<style scoped>\n",
       "    .dataframe tbody tr th:only-of-type {\n",
       "        vertical-align: middle;\n",
       "    }\n",
       "\n",
       "    .dataframe tbody tr th {\n",
       "        vertical-align: top;\n",
       "    }\n",
       "\n",
       "    .dataframe thead th {\n",
       "        text-align: right;\n",
       "    }\n",
       "</style>\n",
       "<table border=\"1\" class=\"dataframe\">\n",
       "  <thead>\n",
       "    <tr style=\"text-align: right;\">\n",
       "      <th></th>\n",
       "      <th>NOTA_MEDIA_ESCOLA</th>\n",
       "      <th>TAXA_DE_APROVACAO</th>\n",
       "      <th>TAXA_DE_PARTICIPACAO</th>\n",
       "    </tr>\n",
       "  </thead>\n",
       "  <tbody>\n",
       "    <tr>\n",
       "      <th>count</th>\n",
       "      <td>1685.000000</td>\n",
       "      <td>1683.000000</td>\n",
       "      <td>1685.000000</td>\n",
       "    </tr>\n",
       "    <tr>\n",
       "      <th>mean</th>\n",
       "      <td>575.391745</td>\n",
       "      <td>86.044444</td>\n",
       "      <td>75.263669</td>\n",
       "    </tr>\n",
       "    <tr>\n",
       "      <th>std</th>\n",
       "      <td>40.796223</td>\n",
       "      <td>10.334011</td>\n",
       "      <td>16.886193</td>\n",
       "    </tr>\n",
       "    <tr>\n",
       "      <th>min</th>\n",
       "      <td>487.007141</td>\n",
       "      <td>47.700000</td>\n",
       "      <td>50.000000</td>\n",
       "    </tr>\n",
       "    <tr>\n",
       "      <th>25%</th>\n",
       "      <td>544.937500</td>\n",
       "      <td>79.500000</td>\n",
       "      <td>59.615387</td>\n",
       "    </tr>\n",
       "    <tr>\n",
       "      <th>50%</th>\n",
       "      <td>561.520752</td>\n",
       "      <td>87.800000</td>\n",
       "      <td>72.916672</td>\n",
       "    </tr>\n",
       "    <tr>\n",
       "      <th>75%</th>\n",
       "      <td>607.530579</td>\n",
       "      <td>94.550000</td>\n",
       "      <td>92.857140</td>\n",
       "    </tr>\n",
       "    <tr>\n",
       "      <th>max</th>\n",
       "      <td>713.629028</td>\n",
       "      <td>100.000000</td>\n",
       "      <td>100.000000</td>\n",
       "    </tr>\n",
       "  </tbody>\n",
       "</table>\n",
       "</div>"
      ],
      "text/plain": [
       "       NOTA_MEDIA_ESCOLA  TAXA_DE_APROVACAO  TAXA_DE_PARTICIPACAO\n",
       "count        1685.000000        1683.000000           1685.000000\n",
       "mean          575.391745          86.044444             75.263669\n",
       "std            40.796223          10.334011             16.886193\n",
       "min           487.007141          47.700000             50.000000\n",
       "25%           544.937500          79.500000             59.615387\n",
       "50%           561.520752          87.800000             72.916672\n",
       "75%           607.530579          94.550000             92.857140\n",
       "max           713.629028         100.000000            100.000000"
      ]
     },
     "execution_count": 4,
     "metadata": {},
     "output_type": "execute_result"
    }
   ],
   "source": [
    "df.describe()"
   ]
  },
  {
   "cell_type": "markdown",
   "metadata": {
    "deletable": false,
    "editable": false,
    "nbgrader": {
     "checksum": "ec6387430edb72b5cc22a90672ab7d1c",
     "grade": false,
     "grade_id": "cell-77a6d45d72bdd64d",
     "locked": true,
     "schema_version": 1,
     "solution": false
    }
   },
   "source": [
    "A) Plote um histograma dos dados da coluna \"NOTA_MEDIA_ESCOLA\"."
   ]
  },
  {
   "cell_type": "code",
   "execution_count": 5,
   "metadata": {
    "deletable": false,
    "nbgrader": {
     "checksum": "2dbc8e9cec36345627301b936dbaa32f",
     "grade": true,
     "grade_id": "cell-b9008710d05cd6db",
     "locked": false,
     "points": 1,
     "schema_version": 1,
     "solution": true
    }
   },
   "outputs": [
    {
     "data": {
      "image/png": "[encoded data removed]",
      "text/plain": [
       "<Figure size 432x288 with 1 Axes>"
      ]
     },
     "metadata": {
      "needs_background": "light"
     },
     "output_type": "display_data"
    }
   ],
   "source": [
    "# YOUR CODE HERE\n",
    "plt.hist(df['NOTA_MEDIA_ESCOLA'], edgecolor='k')\n",
    "plt.title('Nota média das escolas')\n",
    "plt.xlabel('Nota média')\n",
    "plt.ylabel('P(nota média)')\n",
    "plt.show()"
   ]
  },
  {
   "cell_type": "markdown",
   "metadata": {
    "deletable": false,
    "editable": false,
    "nbgrader": {
     "checksum": "897698fad4ea6d3d698d9e885df82960",
     "grade": false,
     "grade_id": "cell-5de2af25853ccf6b",
     "locked": true,
     "schema_version": 1,
     "solution": false
    }
   },
   "source": [
    "B) Para o valor médio das notas as escolas, determine com 95% o intervalo de confiança. **Não utilize a técnica de bootstrap.**\n",
    "\n",
    "Lembrando do conceito visto em aula:\n",
    "\n",
    "$$\\begin{align}\n",
    "0.95 = P(-z \\le Z \\le z)=P \\left(-1.96 \\le \\frac {\\bar X-\\mu}{\\sigma/\\sqrt{n}} \\le 1.96 \\right) = P \\left( \\bar X - 1.96 \\frac \\sigma {\\sqrt{n}} \\le \\mu \\le \\bar X + 1.96 \\frac \\sigma {\\sqrt{n}}\\right).\n",
    "\\end{align}$$\n",
    "\n",
    "Logo, a probabilidade da média da população estar entre $\\bar{X} +- 1.96 \\frac \\sigma {\\sqrt{n}}$ é de 95%."
   ]
  },
  {
   "cell_type": "markdown",
   "metadata": {
    "deletable": false,
    "editable": false,
    "nbgrader": {
     "checksum": "ad5df423756c8635b885bfbcfa1cecb3",
     "grade": false,
     "grade_id": "cell-065ca84cea4fc834",
     "locked": true,
     "schema_version": 1,
     "solution": false
    }
   },
   "source": [
    "Neste exercício você deverá retornar uma lista com os valores inferior e superior do intervalo de confiança."
   ]
  },
  {
   "cell_type": "code",
   "execution_count": 6,
   "metadata": {
    "deletable": false,
    "nbgrader": {
     "checksum": "4713f99b5113dc2c1317dc2a708dd459",
     "grade": false,
     "grade_id": "cell-3f60daae27375779",
     "locked": false,
     "schema_version": 1,
     "solution": true
    }
   },
   "outputs": [],
   "source": [
    "def calcula_IC_notas(df):\n",
    "    # YOUR CODE HERE\n",
    "    media = np.mean(df['NOTA_MEDIA_ESCOLA'])\n",
    "    desvio = np.std(df['NOTA_MEDIA_ESCOLA'], ddof=1)\n",
    "    raiz_n = np.sqrt(np.size(df['NOTA_MEDIA_ESCOLA']))\n",
    "    \n",
    "    inferior = media - 1.96*(desvio/raiz_n)\n",
    "    superior = media + 1.96*(desvio/raiz_n)\n",
    "    \n",
    "    return [ inferior, superior ]"
   ]
  },
  {
   "cell_type": "code",
   "execution_count": 7,
   "metadata": {},
   "outputs": [
    {
     "data": {
      "text/plain": [
       "[573.4438030115768, 577.3396875055735]"
      ]
     },
     "execution_count": 7,
     "metadata": {},
     "output_type": "execute_result"
    }
   ],
   "source": [
    "#Resposta\n",
    "calcula_IC_notas(df)"
   ]
  },
  {
   "cell_type": "markdown",
   "metadata": {
    "deletable": false,
    "editable": false,
    "nbgrader": {
     "checksum": "7dae59c5234074045bc1731e51e074a6",
     "grade": false,
     "grade_id": "cell-46e43e56c918e334",
     "locked": true,
     "schema_version": 1,
     "solution": false
    }
   },
   "source": [
    "Para certificar que a sua função está retornando o intervalo correto, verifique se os valores abaixo \n",
    "são os mesmos para a sua função:\n",
    "    \n",
    "[573.4438030115773, 577.3396875055739]\n",
    "\n",
    "Se eles não estiverem neste intervalo, qual pode ser o motivo ?\n",
    "\n",
    "Verifique os parâmetros da função _np.std()_"
   ]
  },
  {
   "cell_type": "code",
   "execution_count": null,
   "metadata": {
    "deletable": false,
    "editable": false,
    "nbgrader": {
     "checksum": "81fdb1d8d3ba17dd7328337b946da4ae",
     "grade": true,
     "grade_id": "cell-7ffe28105370b669",
     "locked": true,
     "points": 1,
     "schema_version": 1,
     "solution": false
    }
   },
   "outputs": [],
   "source": []
  },
  {
   "cell_type": "markdown",
   "metadata": {
    "deletable": false,
    "editable": false,
    "nbgrader": {
     "checksum": "50b8b4c65eb6a0947111003ab2747a66",
     "grade": false,
     "grade_id": "cell-feef6974844921de",
     "locked": true,
     "schema_version": 1,
     "solution": false
    }
   },
   "source": [
    "C) Na função abaixo, retorne o número da opção que melhor define o que indica o Intervalo de Confiança:\n",
    "\n",
    "    1: O intervalo inclui a média da população com 95% de probabilidade\n",
    "    2: 5% da amostra está a mais que 1.96 de distância da média da população\n",
    "    3: 95% dos valores da população estão dentro do intervalo\n",
    "    4: A média da amostra está com 95% de probabilidade dentro do intervalo\n",
    "    5: Nenhuma das anteriores"
   ]
  },
  {
   "cell_type": "code",
   "execution_count": 8,
   "metadata": {
    "deletable": false,
    "nbgrader": {
     "checksum": "66c8354fd17b8e4890494712a09b4fde",
     "grade": false,
     "grade_id": "cell-95093148b01792f2",
     "locked": false,
     "schema_version": 1,
     "solution": true
    }
   },
   "outputs": [],
   "source": [
    "def resposta():\n",
    "    # Escolha uma das opções acima\n",
    "    # return 1 ou 2 ou 3 ou 4 ou 5\n",
    "    # Escreva sua resposta abaixo:\n",
    "    # YOUR CODE HERE\n",
    "    return 4"
   ]
  },
  {
   "cell_type": "code",
   "execution_count": 9,
   "metadata": {},
   "outputs": [
    {
     "data": {
      "text/plain": [
       "4"
      ]
     },
     "execution_count": 9,
     "metadata": {},
     "output_type": "execute_result"
    }
   ],
   "source": [
    "#Resposta\n",
    "resposta()"
   ]
  },
  {
   "cell_type": "code",
   "execution_count": null,
   "metadata": {
    "deletable": false,
    "editable": false,
    "nbgrader": {
     "checksum": "56d7f4a0e0a31a327a5637e143b86201",
     "grade": true,
     "grade_id": "cell-994c03fe99dda082",
     "locked": true,
     "points": 1,
     "schema_version": 1,
     "solution": false
    }
   },
   "outputs": [],
   "source": []
  },
  {
   "cell_type": "markdown",
   "metadata": {
    "deletable": false,
    "editable": false,
    "nbgrader": {
     "checksum": "295114f0228a2137e5687b3917b227c8",
     "grade": false,
     "grade_id": "cell1c-a00",
     "locked": true,
     "schema_version": 1,
     "solution": false
    }
   },
   "source": [
    "# Exercício 02:\n",
    "\n",
    "Agora vamos calcular intervalos de confiança utilizando **bootstrap**."
   ]
  },
  {
   "cell_type": "markdown",
   "metadata": {
    "deletable": false,
    "editable": false,
    "nbgrader": {
     "checksum": "2823b53c52c7b70eee4ad7b3c6e8cbf8",
     "grade": false,
     "grade_id": "cell-f30c5f08ab799833",
     "locked": true,
     "schema_version": 1,
     "solution": false
    }
   },
   "source": [
    "A) Utilizando o mesmo atributo do exercício anterior, execute um bootstrap com 5000 amostras.\n",
    "\n",
    "Lembre do conceito visto em aula:\n",
    "\n",
    "\"Para implementar o Bootstrap, vamos implementar uma função. A mesma faz uso da função _sample_ que gera uma amostra aleatória de _n_ elementos retirados do dataframe. Note que estamos fazendo um bootstrap da **mediana**, podemos fazer patra outras medidas centrais.\"\n",
    "\n",
    "1. Dado _n_ e _size_\n",
    "2. Gere _n_ amostras de tamanho _size_ com reposição\n",
    "3. Tira a mediana\n",
    "4. Retorne as novas amostras e veja a distribuição das mesmas"
   ]
  },
  {
   "cell_type": "code",
   "execution_count": 10,
   "metadata": {
    "deletable": false,
    "nbgrader": {
     "checksum": "d2209c9b1f764adfa208d4760f350ca1",
     "grade": true,
     "grade_id": "cell-d0a2391bf51eef6f",
     "locked": false,
     "points": 1,
     "schema_version": 1,
     "solution": true
    }
   },
   "outputs": [],
   "source": [
    "nme = df['NOTA_MEDIA_ESCOLA']\n",
    "N = 5000# altere aqui\n",
    "S = np.size(nme)# altere aqui\n",
    "\n",
    "def bootstrap_median(nme, n, size):\n",
    "    # YOUR CODE HERE\n",
    "    values = np.zeros(N)\n",
    "    for i in range(N):\n",
    "        sample = nme.sample(size, replace=True)\n",
    "        values[i] = sample.median()\n",
    "    \n",
    "    return values"
   ]
  },
  {
   "cell_type": "markdown",
   "metadata": {
    "deletable": false,
    "editable": false,
    "nbgrader": {
     "checksum": "fe5a348bd0a2aba22547accfdeceb802",
     "grade": false,
     "grade_id": "cell-38068ba97aad6037",
     "locked": true,
     "schema_version": 1,
     "solution": false
    }
   },
   "source": [
    "B) Plote a distribuição das medianas."
   ]
  },
  {
   "cell_type": "code",
   "execution_count": 11,
   "metadata": {
    "deletable": false,
    "nbgrader": {
     "checksum": "df1131ba59486abd124613f356a2afc4",
     "grade": true,
     "grade_id": "cell-0c01d0a6bf44b560",
     "locked": false,
     "points": 1,
     "schema_version": 1,
     "solution": true
    }
   },
   "outputs": [
    {
     "data": {
      "image/png": "[encoded data removed]",
      "text/plain": [
       "<Figure size 432x288 with 1 Axes>"
      ]
     },
     "metadata": {
      "needs_background": "light"
     },
     "output_type": "display_data"
    }
   ],
   "source": [
    "bm_values = bootstrap_median(nme, N, S)\n",
    "\n",
    "# YOUR CODE HERE\n",
    "plt.hist(bm_values, edgecolor='k')\n",
    "plt.xlabel('Mediana da Amostra')\n",
    "plt.ylabel('P(mediana)')\n",
    "plt.show()"
   ]
  },
  {
   "cell_type": "markdown",
   "metadata": {
    "deletable": false,
    "editable": false,
    "nbgrader": {
     "checksum": "9f55f646dac88064e7163e9ee5e669cd",
     "grade": false,
     "grade_id": "cell-b8f9d89555c76f12",
     "locked": true,
     "schema_version": 1,
     "solution": false
    }
   },
   "source": [
    "C) Faça uma função que indique onde ficam 95% dos dados sintéticos"
   ]
  },
  {
   "cell_type": "code",
   "execution_count": 12,
   "metadata": {
    "deletable": false,
    "nbgrader": {
     "checksum": "e25c6f592300997bcb48ffa1167b307c",
     "grade": false,
     "grade_id": "cell-4a9f27e4dcd22c5e",
     "locked": false,
     "schema_version": 1,
     "solution": true
    }
   },
   "outputs": [],
   "source": [
    "def percentile(bm_values, init, final):\n",
    "    # YOUR CODE HERE\n",
    "    inferior = np.percentile(bm_values, init)\n",
    "    superior = np.percentile(bm_values, final)\n",
    "    \n",
    "    return [inferior, superior]"
   ]
  },
  {
   "cell_type": "markdown",
   "metadata": {
    "deletable": false,
    "editable": false,
    "nbgrader": {
     "checksum": "ad317cd2b22bf907bb06c12fbcbc949f",
     "grade": false,
     "grade_id": "cell-c3a44bb4b11fdb99",
     "locked": true,
     "schema_version": 1,
     "solution": false
    }
   },
   "source": [
    "Na célula abaixo chame a função que você definiu acima. Altere os parâmetros _init_ e _final_ \n",
    "para que a resposta indique os 95%. "
   ]
  },
  {
   "cell_type": "code",
   "execution_count": 13,
   "metadata": {
    "deletable": false,
    "nbgrader": {
     "checksum": "81bf15fcbbfc6a81aa4513a97ec12e1c",
     "grade": true,
     "grade_id": "cell-5fdd4f21438c043e",
     "locked": false,
     "points": 1,
     "schema_version": 1,
     "solution": true
    }
   },
   "outputs": [
    {
     "data": {
      "text/plain": [
       "[559.8499756, 564.1014984575]"
      ]
     },
     "execution_count": 13,
     "metadata": {},
     "output_type": "execute_result"
    }
   ],
   "source": [
    "# YOUR CODE HERE\n",
    "percentile(bm_values, 2.5, 97.5)"
   ]
  },
  {
   "cell_type": "code",
   "execution_count": null,
   "metadata": {
    "deletable": false,
    "editable": false,
    "nbgrader": {
     "checksum": "3ce1e35126e03e16b33de1d2f925722d",
     "grade": true,
     "grade_id": "cell-46f9cce3f3cf71b1",
     "locked": true,
     "points": 1,
     "schema_version": 1,
     "solution": false
    }
   },
   "outputs": [],
   "source": []
  },
  {
   "cell_type": "markdown",
   "metadata": {
    "deletable": false,
    "editable": false,
    "nbgrader": {
     "checksum": "8dc7fa10c8ac1f73d052e27b35ab69b3",
     "grade": false,
     "grade_id": "cell-22f9a44c571a7b84",
     "locked": true,
     "schema_version": 1,
     "solution": false
    }
   },
   "source": [
    "# Exercício 03:\n",
    "\n",
    "Plote, em escala log-log, a distribuição dos dados no arquivo \"lista.csv\"."
   ]
  },
  {
   "cell_type": "code",
   "execution_count": 14,
   "metadata": {
    "deletable": false,
    "editable": false,
    "nbgrader": {
     "checksum": "7fda348751ca1ebd91aabf747e91dd27",
     "grade": false,
     "grade_id": "cell-f409b4059af75355",
     "locked": true,
     "schema_version": 1,
     "solution": false
    }
   },
   "outputs": [
    {
     "data": {
      "text/plain": [
       "0    1.602521\n",
       "1    6.313130\n",
       "2    1.704995\n",
       "3    4.370505\n",
       "4    0.983462\n",
       "Name: valores, dtype: float64"
      ]
     },
     "execution_count": 14,
     "metadata": {},
     "output_type": "execute_result"
    }
   ],
   "source": [
    "valores = pd.read_csv('lista.csv')['valores']\n",
    "valores.head()"
   ]
  },
  {
   "cell_type": "markdown",
   "metadata": {
    "deletable": false,
    "editable": false,
    "nbgrader": {
     "checksum": "46586b5db587bac793b08c0cafea09de",
     "grade": false,
     "grade_id": "cell-7b6790a3083264a6",
     "locked": true,
     "schema_version": 1,
     "solution": false
    }
   },
   "source": [
    "A) Calcule a média, mediana, variância e desvio padrão dos dados carregados acima. Retorne uma lista da seguinte forma:\n",
    "\n",
    "```python\n",
    "return [media, mediana, var, desvio]\n",
    "```"
   ]
  },
  {
   "cell_type": "code",
   "execution_count": 15,
   "metadata": {
    "deletable": false,
    "nbgrader": {
     "checksum": "7dde788f521bffe6552d7ae30898be7a",
     "grade": false,
     "grade_id": "cell-41b761a7be36a648",
     "locked": false,
     "schema_version": 1,
     "solution": true
    }
   },
   "outputs": [],
   "source": [
    "def calcula_dist_lista(dados):\n",
    "    # YOUR CODE HERE\n",
    "    media = np.mean(dados)\n",
    "    mediana = np.median(dados)\n",
    "    var = np.var(dados, ddof = 1)\n",
    "    desvio = np.std(dados, ddof = 1)\n",
    "    \n",
    "    return [media, mediana, var, desvio]"
   ]
  },
  {
   "cell_type": "code",
   "execution_count": 16,
   "metadata": {},
   "outputs": [
    {
     "data": {
      "text/plain": [
       "[19.508920875736013,\n",
       " 1.0042548724785347,\n",
       " 3257589.8969675843,\n",
       " 1804.8794688198943]"
      ]
     },
     "execution_count": 16,
     "metadata": {},
     "output_type": "execute_result"
    }
   ],
   "source": [
    "#Resposta\n",
    "calcula_dist_lista(valores)"
   ]
  },
  {
   "cell_type": "code",
   "execution_count": null,
   "metadata": {
    "deletable": false,
    "editable": false,
    "nbgrader": {
     "checksum": "997ec1b530146e0d6a4e9a33bd7a628f",
     "grade": true,
     "grade_id": "cell-46a72ffc2a1297c8",
     "locked": true,
     "points": 1,
     "schema_version": 1,
     "solution": false
    }
   },
   "outputs": [],
   "source": []
  },
  {
   "cell_type": "markdown",
   "metadata": {
    "deletable": false,
    "editable": false,
    "nbgrader": {
     "checksum": "fe5bf00a39e8f1202e67c880887f7fc8",
     "grade": false,
     "grade_id": "cell-b9a21e139a71ea34",
     "locked": true,
     "schema_version": 1,
     "solution": false
    }
   },
   "source": [
    "B) Calcule o intervalo de confiança, com confiança de 95%. Retorne uma lista da seguinte forma:\n",
    "\n",
    "```python\n",
    "return [inferior, superior]\n",
    "```"
   ]
  },
  {
   "cell_type": "code",
   "execution_count": 17,
   "metadata": {
    "deletable": false,
    "nbgrader": {
     "checksum": "e03e31dece686036fe7c0f86ff071aaa",
     "grade": false,
     "grade_id": "cell-4cb46adf61d39965",
     "locked": false,
     "schema_version": 1,
     "solution": true
    }
   },
   "outputs": [],
   "source": [
    "def calcula_dist_lista_IC(dados):\n",
    "    # YOUR CODE HERE\n",
    "    media = np.mean(dados)\n",
    "    desvio = np.std(dados, ddof = 1)\n",
    "    raiz_n = np.sqrt(np.size(dados))\n",
    "    \n",
    "    inferior = media - 1.96*(desvio/raiz_n)\n",
    "    superior = media + 1.96*(desvio/raiz_n)\n",
    "    \n",
    "    return [inferior, superior]"
   ]
  },
  {
   "cell_type": "code",
   "execution_count": 18,
   "metadata": {},
   "outputs": [
    {
     "data": {
      "text/plain": [
       "[8.322162029586398, 30.69567972188563]"
      ]
     },
     "execution_count": 18,
     "metadata": {},
     "output_type": "execute_result"
    }
   ],
   "source": [
    "#Resposta\n",
    "calcula_dist_lista_IC(valores)"
   ]
  },
  {
   "cell_type": "code",
   "execution_count": null,
   "metadata": {
    "deletable": false,
    "editable": false,
    "nbgrader": {
     "checksum": "702ee179e6c971e83c401d2cf7994e61",
     "grade": true,
     "grade_id": "cell-332802801587122d",
     "locked": true,
     "points": 1,
     "schema_version": 1,
     "solution": false
    }
   },
   "outputs": [],
   "source": []
  },
  {
   "cell_type": "markdown",
   "metadata": {
    "deletable": false,
    "editable": false,
    "nbgrader": {
     "checksum": "0f030923df2ed4341d0573120a7586bf",
     "grade": false,
     "grade_id": "cell-f8dc5216dd1ab89c",
     "locked": true,
     "schema_version": 1,
     "solution": false
    }
   },
   "source": [
    "C) Plote a distribuição dos valores dos dados, em escala log-log. Verifque as funcões _xscale_ e _yscale_ da biblioteca matplotlib."
   ]
  },
  {
   "cell_type": "code",
   "execution_count": 19,
   "metadata": {
    "deletable": false,
    "nbgrader": {
     "checksum": "0089f16f496991da004b806181ddf7e8",
     "grade": true,
     "grade_id": "cell-eebbb751cb630e2c",
     "locked": false,
     "points": 1,
     "schema_version": 1,
     "solution": true
    }
   },
   "outputs": [
    {
     "data": {
      "image/png": "[encoded data removed]",
      "text/plain": [
       "<Figure size 432x288 with 1 Axes>"
      ]
     },
     "metadata": {
      "needs_background": "light"
     },
     "output_type": "display_data"
    }
   ],
   "source": [
    "# YOUR CODE HERE\n",
    "plt.hist(valores, edgecolor='k')\n",
    "plt.xscale('log')\n",
    "plt.yscale('log')\n",
    "plt.xlabel('Valores')\n",
    "plt.ylabel('Frequência de valores')\n",
    "plt.show()"
   ]
  },
  {
   "cell_type": "markdown",
   "metadata": {
    "deletable": false,
    "editable": false,
    "nbgrader": {
     "checksum": "933310fa7c4a43c3a9c8e97e25cc4978",
     "grade": false,
     "grade_id": "cell-51e2cc380f9bb741",
     "locked": true,
     "schema_version": 1,
     "solution": false
    }
   },
   "source": [
    "D) Tente explicar o por quê de os valores calculados ficaram tão elevados."
   ]
  },
  {
   "cell_type": "markdown",
   "metadata": {
    "deletable": false,
    "nbgrader": {
     "checksum": "2f570750f9a1cfd2debb2a6f30966aad",
     "grade": true,
     "grade_id": "cell-035e97a09d03ead0",
     "locked": false,
     "points": 0,
     "schema_version": 1,
     "solution": true
    }
   },
   "source": [
    "O fato de os valores calculados serem tão elevados pode ser devido à variância dos dados ser bastante elevada. Assim, temos muitos dados com valores baixos (como 10^-4) e muitos dados com altos valores (como 10^4), o que reflete no plot acima."
   ]
  },
  {
   "cell_type": "code",
   "execution_count": null,
   "metadata": {},
   "outputs": [],
   "source": []
  }
 ],
 "metadata": {
  "kernelspec": {
   "display_name": "Python 3",
   "language": "python",
   "name": "python3"
  },
  "language_info": {
   "codemirror_mode": {
    "name": "ipython",
    "version": 3
   },
   "file_extension": ".py",
   "mimetype": "text/x-python",
   "name": "python",
   "nbconvert_exporter": "python",
   "pygments_lexer": "ipython3",
   "version": "3.8.3"
  },
  "varInspector": {
   "cols": {
    "lenName": 16,
    "lenType": 16,
    "lenVar": 40
   },
   "kernels_config": {
    "python": {
     "delete_cmd_postfix": "",
     "delete_cmd_prefix": "del ",
     "library": "var_list.py",
     "varRefreshCmd": "print(var_dic_list())"
    },
    "r": {
     "delete_cmd_postfix": ") ",
     "delete_cmd_prefix": "rm(",
     "library": "var_list.r",
     "varRefreshCmd": "cat(var_dic_list()) "
    }
   },
   "types_to_exclude": [
    "module",
    "function",
    "builtin_function_or_method",
    "instance",
    "_Feature"
   ],
   "window_display": false
  }
 },
 "nbformat": 4,
 "nbformat_minor": 2
}
