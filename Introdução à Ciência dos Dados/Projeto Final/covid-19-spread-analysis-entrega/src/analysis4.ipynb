{
 "cells": [
  {
   "cell_type": "markdown",
   "metadata": {},
   "source": [
    "    Pergunta 5- prevalência de fumantes entre os contaminados influênciam na taxa de mortalidade "
   ]
  },
  {
   "cell_type": "code",
   "execution_count": 1,
   "metadata": {},
   "outputs": [],
   "source": [
    "#!pip install plotly"
   ]
  },
  {
   "cell_type": "code",
   "execution_count": 2,
   "metadata": {},
   "outputs": [],
   "source": [
    "from controller import *\n",
    "import math\n",
    "import scipy.stats as stats\n",
    "import seaborn as sns\n",
    "import matplotlib.pyplot as plt\n",
    "import plotly.express as px\n",
    "\n",
    "from sklearn.model_selection import cross_val_score, cross_val_predict\n",
    "from sklearn import metrics\n",
    "from sklearn.metrics import mean_squared_error\n",
    "\n",
    "from sklearn.linear_model import LinearRegression \n",
    "from sklearn.model_selection import train_test_split\n",
    "from sklearn.neighbors import KNeighborsRegressor"
   ]
  },
  {
   "cell_type": "raw",
   "metadata": {},
   "source": [
    "    Importando os dados a serem usados"
   ]
  },
  {
   "cell_type": "code",
   "execution_count": 3,
   "metadata": {},
   "outputs": [],
   "source": [
    "columns = ['continent','location','new_cases','new_deaths', 'new_tests', 'male_smokers', 'female_smokers','population']\n",
    "df = load_df(columns)\n",
    "df['smokers'] = df['male_smokers'] + df['female_smokers']\n",
    "\n",
    "# n_days = True\n",
    "# df_ARG, df_BOL, df_BRA, df_CHI, df_COL, df_ECU, df_FIS, df_GUY, df_PAR, df_PER, df_SUR, df_URU, df_VEN = comum_preprocess(df, n_days)"
   ]
  },
  {
   "cell_type": "code",
   "execution_count": 4,
   "metadata": {},
   "outputs": [],
   "source": [
    "df_completo = pd.read_csv('../data/owid-covid-data.csv')\n",
    "\n",
    "#rate of smokers per total of deaths in the world\n",
    "df_completo['smokers'] = df_completo['male_smokers'] + df_completo['female_smokers']\n",
    "rate = df_completo['smokers'].sum()/df_completo['new_deaths'].sum()\n",
    "\n",
    "# cases = int(df_completo['new_cases'].sum())\n",
    "# print('Em uma amostra total de {} casos, a razão nmr de fumantes por morte é {}%'.format(cases, round(100*rate,2)))\n",
    "# rate_B = df_BRA['smokers'].sum()/df_BRA['new_deaths'].sum()\n",
    "# casesB = int(df_BRA['new_cases'].sum())\n",
    "# print('BRA, total cases ', casesB, 'taxa fumante por morte ', round(100*rate_B,2),'%')"
   ]
  },
  {
   "cell_type": "markdown",
   "metadata": {},
   "source": [
    "# Análise Exploratória"
   ]
  },
  {
   "cell_type": "code",
   "execution_count": 5,
   "metadata": {},
   "outputs": [
    {
     "data": {
      "text/html": [
       "<div>\n",
       "<style scoped>\n",
       "    .dataframe tbody tr th:only-of-type {\n",
       "        vertical-align: middle;\n",
       "    }\n",
       "\n",
       "    .dataframe tbody tr th {\n",
       "        vertical-align: top;\n",
       "    }\n",
       "\n",
       "    .dataframe thead th {\n",
       "        text-align: right;\n",
       "    }\n",
       "</style>\n",
       "<table border=\"1\" class=\"dataframe\">\n",
       "  <thead>\n",
       "    <tr style=\"text-align: right;\">\n",
       "      <th></th>\n",
       "      <th>new_cases</th>\n",
       "      <th>new_deaths</th>\n",
       "      <th>new_tests</th>\n",
       "      <th>male_smokers</th>\n",
       "      <th>female_smokers</th>\n",
       "      <th>population</th>\n",
       "      <th>smokers</th>\n",
       "      <th>smoker_rate</th>\n",
       "    </tr>\n",
       "    <tr>\n",
       "      <th>location</th>\n",
       "      <th></th>\n",
       "      <th></th>\n",
       "      <th></th>\n",
       "      <th></th>\n",
       "      <th></th>\n",
       "      <th></th>\n",
       "      <th></th>\n",
       "      <th></th>\n",
       "    </tr>\n",
       "  </thead>\n",
       "  <tbody>\n",
       "    <tr>\n",
       "      <th>Argentina</th>\n",
       "      <td>790805.0</td>\n",
       "      <td>20795.0</td>\n",
       "      <td>1679290.0</td>\n",
       "      <td>6564.9</td>\n",
       "      <td>3839.4</td>\n",
       "      <td>45195777.0</td>\n",
       "      <td>10404.3</td>\n",
       "      <td>0.230205</td>\n",
       "    </tr>\n",
       "    <tr>\n",
       "      <th>Bolivia</th>\n",
       "      <td>136569.0</td>\n",
       "      <td>8073.0</td>\n",
       "      <td>294576.0</td>\n",
       "      <td>0.0</td>\n",
       "      <td>0.0</td>\n",
       "      <td>11673029.0</td>\n",
       "      <td>0.0</td>\n",
       "      <td>0.000000</td>\n",
       "    </tr>\n",
       "    <tr>\n",
       "      <th>Brazil</th>\n",
       "      <td>4906833.0</td>\n",
       "      <td>145987.0</td>\n",
       "      <td>0.0</td>\n",
       "      <td>4994.1</td>\n",
       "      <td>2817.9</td>\n",
       "      <td>212559409.0</td>\n",
       "      <td>7812.0</td>\n",
       "      <td>0.036752</td>\n",
       "    </tr>\n",
       "    <tr>\n",
       "      <th>Chile</th>\n",
       "      <td>468471.0</td>\n",
       "      <td>12919.0</td>\n",
       "      <td>3347825.0</td>\n",
       "      <td>8881.0</td>\n",
       "      <td>7318.8</td>\n",
       "      <td>19116209.0</td>\n",
       "      <td>16199.8</td>\n",
       "      <td>0.847438</td>\n",
       "    </tr>\n",
       "    <tr>\n",
       "      <th>Colombia</th>\n",
       "      <td>848147.0</td>\n",
       "      <td>26556.0</td>\n",
       "      <td>3276973.0</td>\n",
       "      <td>2889.0</td>\n",
       "      <td>1005.8</td>\n",
       "      <td>50882884.0</td>\n",
       "      <td>3894.8</td>\n",
       "      <td>0.076544</td>\n",
       "    </tr>\n",
       "    <tr>\n",
       "      <th>Ecuador</th>\n",
       "      <td>140351.0</td>\n",
       "      <td>11597.0</td>\n",
       "      <td>360162.0</td>\n",
       "      <td>3431.7</td>\n",
       "      <td>558.0</td>\n",
       "      <td>17643060.0</td>\n",
       "      <td>3989.7</td>\n",
       "      <td>0.226134</td>\n",
       "    </tr>\n",
       "    <tr>\n",
       "      <th>Falkland Islands</th>\n",
       "      <td>13.0</td>\n",
       "      <td>0.0</td>\n",
       "      <td>0.0</td>\n",
       "      <td>0.0</td>\n",
       "      <td>0.0</td>\n",
       "      <td>3483.0</td>\n",
       "      <td>0.0</td>\n",
       "      <td>0.000000</td>\n",
       "    </tr>\n",
       "    <tr>\n",
       "      <th>Guyana</th>\n",
       "      <td>3005.0</td>\n",
       "      <td>85.0</td>\n",
       "      <td>0.0</td>\n",
       "      <td>0.0</td>\n",
       "      <td>0.0</td>\n",
       "      <td>786559.0</td>\n",
       "      <td>0.0</td>\n",
       "      <td>0.000000</td>\n",
       "    </tr>\n",
       "    <tr>\n",
       "      <th>Paraguay</th>\n",
       "      <td>43452.0</td>\n",
       "      <td>913.0</td>\n",
       "      <td>269710.0</td>\n",
       "      <td>4579.2</td>\n",
       "      <td>1060.0</td>\n",
       "      <td>7132530.0</td>\n",
       "      <td>5639.2</td>\n",
       "      <td>0.790631</td>\n",
       "    </tr>\n",
       "    <tr>\n",
       "      <th>Peru</th>\n",
       "      <td>824985.0</td>\n",
       "      <td>32665.0</td>\n",
       "      <td>629790.0</td>\n",
       "      <td>0.0</td>\n",
       "      <td>1056.0</td>\n",
       "      <td>32971846.0</td>\n",
       "      <td>0.0</td>\n",
       "      <td>0.000000</td>\n",
       "    </tr>\n",
       "    <tr>\n",
       "      <th>Suriname</th>\n",
       "      <td>4924.0</td>\n",
       "      <td>106.0</td>\n",
       "      <td>0.0</td>\n",
       "      <td>8537.1</td>\n",
       "      <td>1472.6</td>\n",
       "      <td>586634.0</td>\n",
       "      <td>10009.7</td>\n",
       "      <td>17.062939</td>\n",
       "    </tr>\n",
       "    <tr>\n",
       "      <th>Uruguay</th>\n",
       "      <td>2122.0</td>\n",
       "      <td>48.0</td>\n",
       "      <td>181439.0</td>\n",
       "      <td>4059.6</td>\n",
       "      <td>2856.0</td>\n",
       "      <td>3473727.0</td>\n",
       "      <td>6915.6</td>\n",
       "      <td>1.990830</td>\n",
       "    </tr>\n",
       "    <tr>\n",
       "      <th>Venezuela</th>\n",
       "      <td>76820.0</td>\n",
       "      <td>643.0</td>\n",
       "      <td>0.0</td>\n",
       "      <td>0.0</td>\n",
       "      <td>0.0</td>\n",
       "      <td>28435943.0</td>\n",
       "      <td>0.0</td>\n",
       "      <td>0.000000</td>\n",
       "    </tr>\n",
       "  </tbody>\n",
       "</table>\n",
       "</div>"
      ],
      "text/plain": [
       "                  new_cases  new_deaths  new_tests  male_smokers  \\\n",
       "location                                                           \n",
       "Argentina          790805.0     20795.0  1679290.0        6564.9   \n",
       "Bolivia            136569.0      8073.0   294576.0           0.0   \n",
       "Brazil            4906833.0    145987.0        0.0        4994.1   \n",
       "Chile              468471.0     12919.0  3347825.0        8881.0   \n",
       "Colombia           848147.0     26556.0  3276973.0        2889.0   \n",
       "Ecuador            140351.0     11597.0   360162.0        3431.7   \n",
       "Falkland Islands       13.0         0.0        0.0           0.0   \n",
       "Guyana               3005.0        85.0        0.0           0.0   \n",
       "Paraguay            43452.0       913.0   269710.0        4579.2   \n",
       "Peru               824985.0     32665.0   629790.0           0.0   \n",
       "Suriname             4924.0       106.0        0.0        8537.1   \n",
       "Uruguay              2122.0        48.0   181439.0        4059.6   \n",
       "Venezuela           76820.0       643.0        0.0           0.0   \n",
       "\n",
       "                  female_smokers   population  smokers  smoker_rate  \n",
       "location                                                             \n",
       "Argentina                 3839.4   45195777.0  10404.3     0.230205  \n",
       "Bolivia                      0.0   11673029.0      0.0     0.000000  \n",
       "Brazil                    2817.9  212559409.0   7812.0     0.036752  \n",
       "Chile                     7318.8   19116209.0  16199.8     0.847438  \n",
       "Colombia                  1005.8   50882884.0   3894.8     0.076544  \n",
       "Ecuador                    558.0   17643060.0   3989.7     0.226134  \n",
       "Falkland Islands             0.0       3483.0      0.0     0.000000  \n",
       "Guyana                       0.0     786559.0      0.0     0.000000  \n",
       "Paraguay                  1060.0    7132530.0   5639.2     0.790631  \n",
       "Peru                      1056.0   32971846.0      0.0     0.000000  \n",
       "Suriname                  1472.6     586634.0  10009.7    17.062939  \n",
       "Uruguay                   2856.0    3473727.0   6915.6     1.990830  \n",
       "Venezuela                    0.0   28435943.0      0.0     0.000000  "
      ]
     },
     "execution_count": 5,
     "metadata": {},
     "output_type": "execute_result"
    }
   ],
   "source": [
    "#defining inhabitants nmr \n",
    "df2 = load_df(['continent','location', 'population'])\n",
    "df2 = df2.drop(['continent'], axis = 1)\n",
    "df2 = df2.groupby(['location']).mean()\n",
    "\n",
    "df1 = df.groupby(['location']).sum()\n",
    "\n",
    "df1['population'] = df2\n",
    "df1['smoker_rate'] = df1['smokers']/df1['population']*1000\n",
    "df1"
   ]
  },
  {
   "cell_type": "markdown",
   "metadata": {},
   "source": [
    "    taxa de mortalidade\n",
    "    \n",
    "    Seja uma constante de comparação K de tal forma que taxa de mortalidade = k*taxa de fumantes. Dessa forma, considerando k contante, a definição da função fica relacionada com o a nossa pergunta (Quanto maior a taxa de mortalidade, maior deve ser a taxa de fumantes)."
   ]
  },
  {
   "cell_type": "code",
   "execution_count": 6,
   "metadata": {},
   "outputs": [
    {
     "data": {
      "image/png": "[encoded data removed]",
      "text/plain": [
       "<matplotlib.figure.Figure at 0x7ff8f753ebe0>"
      ]
     },
     "metadata": {
      "needs_background": "light"
     },
     "output_type": "display_data"
    }
   ],
   "source": [
    "df1['mortality_rate'] = df1['new_deaths']/df1['new_cases']*100\n",
    "df1 = df1.sort_values(by=['mortality_rate'], ascending=False)\n",
    "df1.reset_index().plot(x=\"location\", y=[\"mortality_rate\",\"smoker_rate\"], kind=\"bar\",fontsize=10)\n",
    "plt.title(\"Taxa da mortalidade\")\n",
    "plt.rcParams['figure.figsize'] = (11,7)\n",
    "plt.xlabel(\"Location\")\n",
    "# plt.ylabel(\"Rate\")\n",
    "\n",
    "\n",
    "plt.show()"
   ]
  },
  {
   "cell_type": "markdown",
   "metadata": {},
   "source": [
    "    Dado a falta de dados qus os países disponibilizam o nosso data set ficou extremamtente desbalanceado. Mas c-omo estamos tratando de um problema da vida real, vamos dar seguimento e fazer as análises estatisticas pos-síveis."
   ]
  },
  {
   "cell_type": "code",
   "execution_count": 7,
   "metadata": {},
   "outputs": [
    {
     "data": {
      "image/png": "[encoded data removed]",
      "text/plain": [
       "<matplotlib.figure.Figure at 0x7ff8edabf3c8>"
      ]
     },
     "metadata": {
      "needs_background": "light"
     },
     "output_type": "display_data"
    }
   ],
   "source": [
    "df1.reset_index().plot(x=\"location\", y=[\"new_deaths\", \"smokers\"], kind=\"bar\",fontsize=10)\n",
    "plt.title(\"Caparision between total of deaths and total of smokers\")\n",
    "plt.rcParams['figure.figsize'] = (11,7)\n",
    "plt.xlabel(\"Location\")\n",
    "# plt.ylabel(\"deaths\")\n",
    "\n",
    "\n",
    "plt.show()"
   ]
  },
  {
   "cell_type": "code",
   "execution_count": 8,
   "metadata": {},
   "outputs": [],
   "source": [
    "#droping continent and NAN values\n",
    "df = df.drop(['continent'], axis=1)\n",
    "df = df[df['male_smokers'].notna()]\n",
    "\n",
    "#normalizing smokers and total o\n",
    "df_normalized = df\n",
    "df_normalized['smokers'] = (df['smokers']-df['smokers'].mean())/df['smokers'].std()\n",
    "df_normalized['new_deaths'] = (df['new_deaths']-df['new_deaths'].mean())/df['new_deaths'].std()\n"
   ]
  },
  {
   "cell_type": "code",
   "execution_count": 9,
   "metadata": {},
   "outputs": [
    {
     "data": {
      "image/png": "[encoded data removed]",
      "text/plain": [
       "<matplotlib.figure.Figure at 0x7ff8eda47588>"
      ]
     },
     "metadata": {
      "needs_background": "light"
     },
     "output_type": "display_data"
    }
   ],
   "source": [
    "# gca stands for 'get current axis'\n",
    "ax = plt.gca()\n",
    "\n",
    "df_normalized.plot(kind='line',x='location',y='smokers',ax=ax)\n",
    "# df_normalized.plot(kind='line',x='location',y='new_deaths', color='red', ax=ax)\n",
    "plt.rcParams['figure.figsize'] = (11,7)\n",
    "\n",
    "plt.show()"
   ]
  },
  {
   "cell_type": "markdown",
   "metadata": {},
   "source": [
    "# Regressão"
   ]
  },
  {
   "cell_type": "markdown",
   "metadata": {},
   "source": [
    "    Para realizarmos as análises de regressão, vamos utilizar o data set do mundo inteitro afim de balancear um pouco mais."
   ]
  },
  {
   "cell_type": "code",
   "execution_count": 10,
   "metadata": {},
   "outputs": [
    {
     "data": {
      "text/html": [
       "<div>\n",
       "<style scoped>\n",
       "    .dataframe tbody tr th:only-of-type {\n",
       "        vertical-align: middle;\n",
       "    }\n",
       "\n",
       "    .dataframe tbody tr th {\n",
       "        vertical-align: top;\n",
       "    }\n",
       "\n",
       "    .dataframe thead th {\n",
       "        text-align: right;\n",
       "    }\n",
       "</style>\n",
       "<table border=\"1\" class=\"dataframe\">\n",
       "  <thead>\n",
       "    <tr style=\"text-align: right;\">\n",
       "      <th></th>\n",
       "      <th>iso_code</th>\n",
       "      <th>continent</th>\n",
       "      <th>location</th>\n",
       "      <th>date</th>\n",
       "      <th>total_cases</th>\n",
       "      <th>new_cases</th>\n",
       "      <th>new_cases_smoothed</th>\n",
       "      <th>total_deaths</th>\n",
       "      <th>new_deaths</th>\n",
       "      <th>new_deaths_smoothed</th>\n",
       "      <th>...</th>\n",
       "      <th>extreme_poverty</th>\n",
       "      <th>cardiovasc_death_rate</th>\n",
       "      <th>diabetes_prevalence</th>\n",
       "      <th>female_smokers</th>\n",
       "      <th>male_smokers</th>\n",
       "      <th>handwashing_facilities</th>\n",
       "      <th>hospital_beds_per_thousand</th>\n",
       "      <th>life_expectancy</th>\n",
       "      <th>human_development_index</th>\n",
       "      <th>smokers</th>\n",
       "    </tr>\n",
       "  </thead>\n",
       "  <tbody>\n",
       "    <tr>\n",
       "      <th>0</th>\n",
       "      <td>AFG</td>\n",
       "      <td>Asia</td>\n",
       "      <td>Afghanistan</td>\n",
       "      <td>2019-12-31</td>\n",
       "      <td>0.0</td>\n",
       "      <td>0.0</td>\n",
       "      <td>NaN</td>\n",
       "      <td>0.0</td>\n",
       "      <td>0.0</td>\n",
       "      <td>NaN</td>\n",
       "      <td>...</td>\n",
       "      <td>NaN</td>\n",
       "      <td>597.029</td>\n",
       "      <td>9.59</td>\n",
       "      <td>NaN</td>\n",
       "      <td>NaN</td>\n",
       "      <td>37.746</td>\n",
       "      <td>0.5</td>\n",
       "      <td>64.83</td>\n",
       "      <td>0.498</td>\n",
       "      <td>NaN</td>\n",
       "    </tr>\n",
       "    <tr>\n",
       "      <th>1</th>\n",
       "      <td>AFG</td>\n",
       "      <td>Asia</td>\n",
       "      <td>Afghanistan</td>\n",
       "      <td>2020-01-01</td>\n",
       "      <td>0.0</td>\n",
       "      <td>0.0</td>\n",
       "      <td>NaN</td>\n",
       "      <td>0.0</td>\n",
       "      <td>0.0</td>\n",
       "      <td>NaN</td>\n",
       "      <td>...</td>\n",
       "      <td>NaN</td>\n",
       "      <td>597.029</td>\n",
       "      <td>9.59</td>\n",
       "      <td>NaN</td>\n",
       "      <td>NaN</td>\n",
       "      <td>37.746</td>\n",
       "      <td>0.5</td>\n",
       "      <td>64.83</td>\n",
       "      <td>0.498</td>\n",
       "      <td>NaN</td>\n",
       "    </tr>\n",
       "    <tr>\n",
       "      <th>2</th>\n",
       "      <td>AFG</td>\n",
       "      <td>Asia</td>\n",
       "      <td>Afghanistan</td>\n",
       "      <td>2020-01-02</td>\n",
       "      <td>0.0</td>\n",
       "      <td>0.0</td>\n",
       "      <td>NaN</td>\n",
       "      <td>0.0</td>\n",
       "      <td>0.0</td>\n",
       "      <td>NaN</td>\n",
       "      <td>...</td>\n",
       "      <td>NaN</td>\n",
       "      <td>597.029</td>\n",
       "      <td>9.59</td>\n",
       "      <td>NaN</td>\n",
       "      <td>NaN</td>\n",
       "      <td>37.746</td>\n",
       "      <td>0.5</td>\n",
       "      <td>64.83</td>\n",
       "      <td>0.498</td>\n",
       "      <td>NaN</td>\n",
       "    </tr>\n",
       "    <tr>\n",
       "      <th>3</th>\n",
       "      <td>AFG</td>\n",
       "      <td>Asia</td>\n",
       "      <td>Afghanistan</td>\n",
       "      <td>2020-01-03</td>\n",
       "      <td>0.0</td>\n",
       "      <td>0.0</td>\n",
       "      <td>NaN</td>\n",
       "      <td>0.0</td>\n",
       "      <td>0.0</td>\n",
       "      <td>NaN</td>\n",
       "      <td>...</td>\n",
       "      <td>NaN</td>\n",
       "      <td>597.029</td>\n",
       "      <td>9.59</td>\n",
       "      <td>NaN</td>\n",
       "      <td>NaN</td>\n",
       "      <td>37.746</td>\n",
       "      <td>0.5</td>\n",
       "      <td>64.83</td>\n",
       "      <td>0.498</td>\n",
       "      <td>NaN</td>\n",
       "    </tr>\n",
       "    <tr>\n",
       "      <th>4</th>\n",
       "      <td>AFG</td>\n",
       "      <td>Asia</td>\n",
       "      <td>Afghanistan</td>\n",
       "      <td>2020-01-04</td>\n",
       "      <td>0.0</td>\n",
       "      <td>0.0</td>\n",
       "      <td>NaN</td>\n",
       "      <td>0.0</td>\n",
       "      <td>0.0</td>\n",
       "      <td>NaN</td>\n",
       "      <td>...</td>\n",
       "      <td>NaN</td>\n",
       "      <td>597.029</td>\n",
       "      <td>9.59</td>\n",
       "      <td>NaN</td>\n",
       "      <td>NaN</td>\n",
       "      <td>37.746</td>\n",
       "      <td>0.5</td>\n",
       "      <td>64.83</td>\n",
       "      <td>0.498</td>\n",
       "      <td>NaN</td>\n",
       "    </tr>\n",
       "    <tr>\n",
       "      <th>...</th>\n",
       "      <td>...</td>\n",
       "      <td>...</td>\n",
       "      <td>...</td>\n",
       "      <td>...</td>\n",
       "      <td>...</td>\n",
       "      <td>...</td>\n",
       "      <td>...</td>\n",
       "      <td>...</td>\n",
       "      <td>...</td>\n",
       "      <td>...</td>\n",
       "      <td>...</td>\n",
       "      <td>...</td>\n",
       "      <td>...</td>\n",
       "      <td>...</td>\n",
       "      <td>...</td>\n",
       "      <td>...</td>\n",
       "      <td>...</td>\n",
       "      <td>...</td>\n",
       "      <td>...</td>\n",
       "      <td>...</td>\n",
       "      <td>...</td>\n",
       "    </tr>\n",
       "    <tr>\n",
       "      <th>47954</th>\n",
       "      <td>NaN</td>\n",
       "      <td>NaN</td>\n",
       "      <td>International</td>\n",
       "      <td>2020-09-30</td>\n",
       "      <td>696.0</td>\n",
       "      <td>NaN</td>\n",
       "      <td>NaN</td>\n",
       "      <td>7.0</td>\n",
       "      <td>NaN</td>\n",
       "      <td>NaN</td>\n",
       "      <td>...</td>\n",
       "      <td>NaN</td>\n",
       "      <td>NaN</td>\n",
       "      <td>NaN</td>\n",
       "      <td>NaN</td>\n",
       "      <td>NaN</td>\n",
       "      <td>NaN</td>\n",
       "      <td>NaN</td>\n",
       "      <td>NaN</td>\n",
       "      <td>NaN</td>\n",
       "      <td>NaN</td>\n",
       "    </tr>\n",
       "    <tr>\n",
       "      <th>47955</th>\n",
       "      <td>NaN</td>\n",
       "      <td>NaN</td>\n",
       "      <td>International</td>\n",
       "      <td>2020-10-01</td>\n",
       "      <td>696.0</td>\n",
       "      <td>NaN</td>\n",
       "      <td>NaN</td>\n",
       "      <td>7.0</td>\n",
       "      <td>NaN</td>\n",
       "      <td>NaN</td>\n",
       "      <td>...</td>\n",
       "      <td>NaN</td>\n",
       "      <td>NaN</td>\n",
       "      <td>NaN</td>\n",
       "      <td>NaN</td>\n",
       "      <td>NaN</td>\n",
       "      <td>NaN</td>\n",
       "      <td>NaN</td>\n",
       "      <td>NaN</td>\n",
       "      <td>NaN</td>\n",
       "      <td>NaN</td>\n",
       "    </tr>\n",
       "    <tr>\n",
       "      <th>47956</th>\n",
       "      <td>NaN</td>\n",
       "      <td>NaN</td>\n",
       "      <td>International</td>\n",
       "      <td>2020-10-02</td>\n",
       "      <td>696.0</td>\n",
       "      <td>NaN</td>\n",
       "      <td>NaN</td>\n",
       "      <td>7.0</td>\n",
       "      <td>NaN</td>\n",
       "      <td>NaN</td>\n",
       "      <td>...</td>\n",
       "      <td>NaN</td>\n",
       "      <td>NaN</td>\n",
       "      <td>NaN</td>\n",
       "      <td>NaN</td>\n",
       "      <td>NaN</td>\n",
       "      <td>NaN</td>\n",
       "      <td>NaN</td>\n",
       "      <td>NaN</td>\n",
       "      <td>NaN</td>\n",
       "      <td>NaN</td>\n",
       "    </tr>\n",
       "    <tr>\n",
       "      <th>47957</th>\n",
       "      <td>NaN</td>\n",
       "      <td>NaN</td>\n",
       "      <td>International</td>\n",
       "      <td>2020-10-03</td>\n",
       "      <td>696.0</td>\n",
       "      <td>NaN</td>\n",
       "      <td>NaN</td>\n",
       "      <td>7.0</td>\n",
       "      <td>NaN</td>\n",
       "      <td>NaN</td>\n",
       "      <td>...</td>\n",
       "      <td>NaN</td>\n",
       "      <td>NaN</td>\n",
       "      <td>NaN</td>\n",
       "      <td>NaN</td>\n",
       "      <td>NaN</td>\n",
       "      <td>NaN</td>\n",
       "      <td>NaN</td>\n",
       "      <td>NaN</td>\n",
       "      <td>NaN</td>\n",
       "      <td>NaN</td>\n",
       "    </tr>\n",
       "    <tr>\n",
       "      <th>47958</th>\n",
       "      <td>NaN</td>\n",
       "      <td>NaN</td>\n",
       "      <td>International</td>\n",
       "      <td>2020-10-04</td>\n",
       "      <td>696.0</td>\n",
       "      <td>NaN</td>\n",
       "      <td>NaN</td>\n",
       "      <td>7.0</td>\n",
       "      <td>NaN</td>\n",
       "      <td>NaN</td>\n",
       "      <td>...</td>\n",
       "      <td>NaN</td>\n",
       "      <td>NaN</td>\n",
       "      <td>NaN</td>\n",
       "      <td>NaN</td>\n",
       "      <td>NaN</td>\n",
       "      <td>NaN</td>\n",
       "      <td>NaN</td>\n",
       "      <td>NaN</td>\n",
       "      <td>NaN</td>\n",
       "      <td>NaN</td>\n",
       "    </tr>\n",
       "  </tbody>\n",
       "</table>\n",
       "<p>47959 rows × 42 columns</p>\n",
       "</div>"
      ],
      "text/plain": [
       "      iso_code continent       location        date  total_cases  new_cases  \\\n",
       "0          AFG      Asia    Afghanistan  2019-12-31          0.0        0.0   \n",
       "1          AFG      Asia    Afghanistan  2020-01-01          0.0        0.0   \n",
       "2          AFG      Asia    Afghanistan  2020-01-02          0.0        0.0   \n",
       "3          AFG      Asia    Afghanistan  2020-01-03          0.0        0.0   \n",
       "4          AFG      Asia    Afghanistan  2020-01-04          0.0        0.0   \n",
       "...        ...       ...            ...         ...          ...        ...   \n",
       "47954      NaN       NaN  International  2020-09-30        696.0        NaN   \n",
       "47955      NaN       NaN  International  2020-10-01        696.0        NaN   \n",
       "47956      NaN       NaN  International  2020-10-02        696.0        NaN   \n",
       "47957      NaN       NaN  International  2020-10-03        696.0        NaN   \n",
       "47958      NaN       NaN  International  2020-10-04        696.0        NaN   \n",
       "\n",
       "       new_cases_smoothed  total_deaths  new_deaths  new_deaths_smoothed  ...  \\\n",
       "0                     NaN           0.0         0.0                  NaN  ...   \n",
       "1                     NaN           0.0         0.0                  NaN  ...   \n",
       "2                     NaN           0.0         0.0                  NaN  ...   \n",
       "3                     NaN           0.0         0.0                  NaN  ...   \n",
       "4                     NaN           0.0         0.0                  NaN  ...   \n",
       "...                   ...           ...         ...                  ...  ...   \n",
       "47954                 NaN           7.0         NaN                  NaN  ...   \n",
       "47955                 NaN           7.0         NaN                  NaN  ...   \n",
       "47956                 NaN           7.0         NaN                  NaN  ...   \n",
       "47957                 NaN           7.0         NaN                  NaN  ...   \n",
       "47958                 NaN           7.0         NaN                  NaN  ...   \n",
       "\n",
       "       extreme_poverty  cardiovasc_death_rate  diabetes_prevalence  \\\n",
       "0                  NaN                597.029                 9.59   \n",
       "1                  NaN                597.029                 9.59   \n",
       "2                  NaN                597.029                 9.59   \n",
       "3                  NaN                597.029                 9.59   \n",
       "4                  NaN                597.029                 9.59   \n",
       "...                ...                    ...                  ...   \n",
       "47954              NaN                    NaN                  NaN   \n",
       "47955              NaN                    NaN                  NaN   \n",
       "47956              NaN                    NaN                  NaN   \n",
       "47957              NaN                    NaN                  NaN   \n",
       "47958              NaN                    NaN                  NaN   \n",
       "\n",
       "       female_smokers  male_smokers  handwashing_facilities  \\\n",
       "0                 NaN           NaN                  37.746   \n",
       "1                 NaN           NaN                  37.746   \n",
       "2                 NaN           NaN                  37.746   \n",
       "3                 NaN           NaN                  37.746   \n",
       "4                 NaN           NaN                  37.746   \n",
       "...               ...           ...                     ...   \n",
       "47954             NaN           NaN                     NaN   \n",
       "47955             NaN           NaN                     NaN   \n",
       "47956             NaN           NaN                     NaN   \n",
       "47957             NaN           NaN                     NaN   \n",
       "47958             NaN           NaN                     NaN   \n",
       "\n",
       "       hospital_beds_per_thousand  life_expectancy  human_development_index  \\\n",
       "0                             0.5            64.83                    0.498   \n",
       "1                             0.5            64.83                    0.498   \n",
       "2                             0.5            64.83                    0.498   \n",
       "3                             0.5            64.83                    0.498   \n",
       "4                             0.5            64.83                    0.498   \n",
       "...                           ...              ...                      ...   \n",
       "47954                         NaN              NaN                      NaN   \n",
       "47955                         NaN              NaN                      NaN   \n",
       "47956                         NaN              NaN                      NaN   \n",
       "47957                         NaN              NaN                      NaN   \n",
       "47958                         NaN              NaN                      NaN   \n",
       "\n",
       "       smokers  \n",
       "0          NaN  \n",
       "1          NaN  \n",
       "2          NaN  \n",
       "3          NaN  \n",
       "4          NaN  \n",
       "...        ...  \n",
       "47954      NaN  \n",
       "47955      NaN  \n",
       "47956      NaN  \n",
       "47957      NaN  \n",
       "47958      NaN  \n",
       "\n",
       "[47959 rows x 42 columns]"
      ]
     },
     "execution_count": 10,
     "metadata": {},
     "output_type": "execute_result"
    }
   ],
   "source": [
    "df_completo"
   ]
  },
  {
   "cell_type": "raw",
   "metadata": {},
   "source": [
    "Preparando os dados para a regressão"
   ]
  },
  {
   "cell_type": "code",
   "execution_count": 11,
   "metadata": {},
   "outputs": [],
   "source": [
    "x = df_completo.dropna()\n",
    "y = x['smokers']\n",
    "\n",
    "#droping nominal comlumns\n",
    "x = x.select_dtypes(include=['float64'])\n",
    "\n",
    "#normalizing\n",
    "x=(x-x.mean())/x.std()\n",
    "\n",
    "#droping vies colums\n",
    "x = x.drop(columns = ['smokers','male_smokers','female_smokers']) \n",
    "\n",
    "#splitting \n",
    "X_train, X_test, y_train, y_test = train_test_split(x, y, test_size=0.3, random_state=42)"
   ]
  },
  {
   "cell_type": "raw",
   "metadata": {},
   "source": [
    "Linear Regression"
   ]
  },
  {
   "cell_type": "code",
   "execution_count": 12,
   "metadata": {},
   "outputs": [
    {
     "name": "stdout",
     "output_type": "stream",
     "text": [
      "R2 no set de treino: 0.81\n",
      "R2 no set de teste: 0.82\n"
     ]
    }
   ],
   "source": [
    "regr = LinearRegression() # cria o modelo \n",
    "regr.fit(X_train, y_train) # treina o modelo\n",
    "\n",
    "r2_train = regr.score(X_train, y_train)\n",
    "r2_test = regr.score(X_test, y_test)\n",
    "print('R2 no set de treino: %.2f' % r2_train)\n",
    "print('R2 no set de teste: %.2f' % r2_test)"
   ]
  },
  {
   "cell_type": "code",
   "execution_count": 17,
   "metadata": {},
   "outputs": [
    {
     "data": {
      "text/plain": [
       "0.8220391539959818"
      ]
     },
     "execution_count": 17,
     "metadata": {},
     "output_type": "execute_result"
    }
   ],
   "source": [
    "#cross validation\n",
    "\n",
    "#create a new model\n",
    "reg2 = LinearRegression()\n",
    "\n",
    "#aplying\n",
    "scores = cross_val_score(reg2, X_train, y_train, cv = 5)\n",
    "\n",
    "#use cros val to get predict\n",
    "predictions = cross_val_predict(reg2, X_test, y_test, cv = 5) \n",
    "\n",
    "#fit model to data\n",
    "reg2.fit(X_train, y_train)\n",
    "\n",
    "y_hat = reg2.predict(X_test)\n",
    "\n",
    "reg2.score(X_test, y_test)"
   ]
  },
  {
   "cell_type": "raw",
   "metadata": {},
   "source": [
    "O mesmo para o modelo KNN"
   ]
  },
  {
   "cell_type": "code",
   "execution_count": 14,
   "metadata": {},
   "outputs": [
    {
     "name": "stdout",
     "output_type": "stream",
     "text": [
      "R2 no set de treino: 1.00\n",
      "R2 no set de teste: 1.00\n"
     ]
    }
   ],
   "source": [
    "# Create KNN classifier\n",
    "knn = KNeighborsRegressor()\n",
    "# Fit the classifier to the data\n",
    "knn.fit(X_train,y_train)\n",
    "\n",
    "r2_train_knn = knn.score(X_train, y_train)\n",
    "r2_test_knn = knn.score(X_test, y_test)\n",
    "print('R2 no set de treino: %.2f' % r2_train_knn)\n",
    "print('R2 no set de teste: %.2f' % r2_test_knn)"
   ]
  },
  {
   "cell_type": "raw",
   "metadata": {},
   "source": [
    "Predições"
   ]
  },
  {
   "cell_type": "code",
   "execution_count": 15,
   "metadata": {},
   "outputs": [],
   "source": [
    "y_prev = regr.predict(X_test)\n",
    "y_prev_knn = knn.predict(X_test)"
   ]
  },
  {
   "cell_type": "code",
   "execution_count": 18,
   "metadata": {},
   "outputs": [
    {
     "name": "stdout",
     "output_type": "stream",
     "text": [
      "Reg Linear plot\n"
     ]
    },
    {
     "data": {
      "image/png": "[encoded data removed]",
      "text/plain": [
       "<matplotlib.figure.Figure at 0x7ff928306cf8>"
      ]
     },
     "metadata": {
      "needs_background": "light"
     },
     "output_type": "display_data"
    },
    {
     "name": "stdout",
     "output_type": "stream",
     "text": [
      "Reg Linear with cv plot\n"
     ]
    },
    {
     "data": {
      "image/png": "[encoded data removed]",
      "text/plain": [
       "<matplotlib.figure.Figure at 0x7ff8eda0c358>"
      ]
     },
     "metadata": {
      "needs_background": "light"
     },
     "output_type": "display_data"
    },
    {
     "name": "stdout",
     "output_type": "stream",
     "text": [
      "Knn plot\n"
     ]
    },
    {
     "data": {
      "image/png": "[encoded data removed]",
      "text/plain": [
       "<matplotlib.figure.Figure at 0x7ff8eda3f710>"
      ]
     },
     "metadata": {
      "needs_background": "light"
     },
     "output_type": "display_data"
    }
   ],
   "source": [
    "import matplotlib.pyplot as plt\n",
    "%matplotlib inline\n",
    "\n",
    "print(\"Reg Linear plot\")\n",
    "plt.scatter(y_test, y_prev)\n",
    "ranger = [y_test.min(), y_prev.max()]\n",
    "plt.plot(ranger, ranger, 'red')\n",
    "plt.xlabel('Quantidade real de fumantes')\n",
    "plt.ylabel('Quantidade de fumantes predito')\n",
    "plt.show()\n",
    "\n",
    "print(\"Reg Linear with cv plot\")\n",
    "plt.scatter(y_test, y_hat)\n",
    "ranger = [y_test.min(), y_hat.max()]\n",
    "plt.plot(ranger, ranger, 'red')\n",
    "plt.xlabel('Quantidade real de fumantes')\n",
    "plt.ylabel('Quantidade de fumantes predito')\n",
    "plt.show()\n",
    "\n",
    "print('Knn plot')\n",
    "plt.scatter(y_test, y_prev_knn)\n",
    "ranger = [y_test.min(), y_prev_knn.max()]\n",
    "plt.plot(ranger, ranger, 'red')\n",
    "plt.xlabel('Quantidade real de fumantes')\n",
    "plt.ylabel('Quantidade de fumantes predito')\n",
    "plt.show()"
   ]
  },
  {
   "cell_type": "code",
   "execution_count": 19,
   "metadata": {},
   "outputs": [
    {
     "name": "stdout",
     "output_type": "stream",
     "text": [
      "MSE reg lin 51.48549233037148\n",
      "MSE knn 0.12424503882657449\n"
     ]
    }
   ],
   "source": [
    "print(f'MSE reg lin {mean_squared_error(y_test, y_prev)}')\n",
    "print(f'MSE knn {mean_squared_error(y_test, y_prev_knn)}')"
   ]
  },
  {
   "cell_type": "markdown",
   "metadata": {},
   "source": [
    "# Classificação"
   ]
  },
  {
   "cell_type": "markdown",
   "metadata": {},
   "source": [
    "    supervised larning to multiclass. In this topic we'll work with the whole data to classify, given the number o smokers and some rates, which country this set of data belongs. In one hand we can classify with location and work with a dasbalanced data and several class. In another hand, just continent is suficient to archive a small number of missclassification. "
   ]
  },
  {
   "cell_type": "code",
   "execution_count": 20,
   "metadata": {},
   "outputs": [
    {
     "data": {
      "text/html": [
       "<div>\n",
       "<style scoped>\n",
       "    .dataframe tbody tr th:only-of-type {\n",
       "        vertical-align: middle;\n",
       "    }\n",
       "\n",
       "    .dataframe tbody tr th {\n",
       "        vertical-align: top;\n",
       "    }\n",
       "\n",
       "    .dataframe thead th {\n",
       "        text-align: right;\n",
       "    }\n",
       "</style>\n",
       "<table border=\"1\" class=\"dataframe\">\n",
       "  <thead>\n",
       "    <tr style=\"text-align: right;\">\n",
       "      <th></th>\n",
       "      <th>total_cases</th>\n",
       "      <th>new_cases</th>\n",
       "      <th>new_cases_smoothed</th>\n",
       "      <th>total_deaths</th>\n",
       "      <th>new_deaths</th>\n",
       "      <th>new_deaths_smoothed</th>\n",
       "      <th>total_cases_per_million</th>\n",
       "      <th>new_cases_per_million</th>\n",
       "      <th>new_cases_smoothed_per_million</th>\n",
       "      <th>total_deaths_per_million</th>\n",
       "      <th>...</th>\n",
       "      <th>extreme_poverty</th>\n",
       "      <th>cardiovasc_death_rate</th>\n",
       "      <th>diabetes_prevalence</th>\n",
       "      <th>female_smokers</th>\n",
       "      <th>male_smokers</th>\n",
       "      <th>handwashing_facilities</th>\n",
       "      <th>hospital_beds_per_thousand</th>\n",
       "      <th>life_expectancy</th>\n",
       "      <th>human_development_index</th>\n",
       "      <th>smokers</th>\n",
       "    </tr>\n",
       "    <tr>\n",
       "      <th>continent</th>\n",
       "      <th></th>\n",
       "      <th></th>\n",
       "      <th></th>\n",
       "      <th></th>\n",
       "      <th></th>\n",
       "      <th></th>\n",
       "      <th></th>\n",
       "      <th></th>\n",
       "      <th></th>\n",
       "      <th></th>\n",
       "      <th></th>\n",
       "      <th></th>\n",
       "      <th></th>\n",
       "      <th></th>\n",
       "      <th></th>\n",
       "      <th></th>\n",
       "      <th></th>\n",
       "      <th></th>\n",
       "      <th></th>\n",
       "      <th></th>\n",
       "      <th></th>\n",
       "    </tr>\n",
       "  </thead>\n",
       "  <tbody>\n",
       "    <tr>\n",
       "      <th>Africa</th>\n",
       "      <td>10113.792524</td>\n",
       "      <td>136.116287</td>\n",
       "      <td>137.175160</td>\n",
       "      <td>240.725623</td>\n",
       "      <td>3.280607</td>\n",
       "      <td>3.314015</td>\n",
       "      <td>589.704121</td>\n",
       "      <td>7.781089</td>\n",
       "      <td>7.807032</td>\n",
       "      <td>9.738158</td>\n",
       "      <td>...</td>\n",
       "      <td>32.933258</td>\n",
       "      <td>287.778410</td>\n",
       "      <td>5.700622</td>\n",
       "      <td>2.516542</td>\n",
       "      <td>27.425523</td>\n",
       "      <td>26.643491</td>\n",
       "      <td>1.511971</td>\n",
       "      <td>64.409414</td>\n",
       "      <td>0.548640</td>\n",
       "      <td>29.942064</td>\n",
       "    </tr>\n",
       "    <tr>\n",
       "      <th>Asia</th>\n",
       "      <td>59415.573125</td>\n",
       "      <td>977.255451</td>\n",
       "      <td>955.906654</td>\n",
       "      <td>1276.492998</td>\n",
       "      <td>17.748803</td>\n",
       "      <td>17.460741</td>\n",
       "      <td>2168.903693</td>\n",
       "      <td>27.254323</td>\n",
       "      <td>26.835739</td>\n",
       "      <td>19.690470</td>\n",
       "      <td>...</td>\n",
       "      <td>5.366726</td>\n",
       "      <td>283.289355</td>\n",
       "      <td>9.474495</td>\n",
       "      <td>4.757509</td>\n",
       "      <td>39.369841</td>\n",
       "      <td>71.715906</td>\n",
       "      <td>2.878598</td>\n",
       "      <td>74.685479</td>\n",
       "      <td>0.732031</td>\n",
       "      <td>44.127349</td>\n",
       "    </tr>\n",
       "    <tr>\n",
       "      <th>Europe</th>\n",
       "      <td>37820.496464</td>\n",
       "      <td>422.890934</td>\n",
       "      <td>412.125853</td>\n",
       "      <td>2624.442694</td>\n",
       "      <td>18.075711</td>\n",
       "      <td>18.167889</td>\n",
       "      <td>2917.112410</td>\n",
       "      <td>30.192458</td>\n",
       "      <td>29.327617</td>\n",
       "      <td>131.295096</td>\n",
       "      <td>...</td>\n",
       "      <td>0.932022</td>\n",
       "      <td>223.488644</td>\n",
       "      <td>6.417837</td>\n",
       "      <td>23.400574</td>\n",
       "      <td>34.981486</td>\n",
       "      <td>94.025573</td>\n",
       "      <td>5.175416</td>\n",
       "      <td>79.948043</td>\n",
       "      <td>0.869211</td>\n",
       "      <td>58.382059</td>\n",
       "    </tr>\n",
       "    <tr>\n",
       "      <th>North America</th>\n",
       "      <td>99722.789530</td>\n",
       "      <td>1196.070604</td>\n",
       "      <td>1192.788122</td>\n",
       "      <td>4238.697852</td>\n",
       "      <td>41.796242</td>\n",
       "      <td>41.965444</td>\n",
       "      <td>2072.218093</td>\n",
       "      <td>33.761150</td>\n",
       "      <td>33.266514</td>\n",
       "      <td>63.299044</td>\n",
       "      <td>...</td>\n",
       "      <td>5.173202</td>\n",
       "      <td>195.298945</td>\n",
       "      <td>10.807446</td>\n",
       "      <td>7.416255</td>\n",
       "      <td>22.081987</td>\n",
       "      <td>77.263318</td>\n",
       "      <td>2.295832</td>\n",
       "      <td>76.713712</td>\n",
       "      <td>0.752306</td>\n",
       "      <td>29.902293</td>\n",
       "    </tr>\n",
       "    <tr>\n",
       "      <th>Oceania</th>\n",
       "      <td>1756.100462</td>\n",
       "      <td>19.603926</td>\n",
       "      <td>19.728165</td>\n",
       "      <td>33.491917</td>\n",
       "      <td>0.570439</td>\n",
       "      <td>0.574407</td>\n",
       "      <td>660.550773</td>\n",
       "      <td>14.905210</td>\n",
       "      <td>13.842437</td>\n",
       "      <td>11.795349</td>\n",
       "      <td>...</td>\n",
       "      <td>0.924432</td>\n",
       "      <td>271.883788</td>\n",
       "      <td>15.113437</td>\n",
       "      <td>14.874627</td>\n",
       "      <td>27.591940</td>\n",
       "      <td>NaN</td>\n",
       "      <td>2.939591</td>\n",
       "      <td>76.566304</td>\n",
       "      <td>0.806015</td>\n",
       "      <td>42.466567</td>\n",
       "    </tr>\n",
       "    <tr>\n",
       "      <th>South America</th>\n",
       "      <td>201078.221747</td>\n",
       "      <td>2939.927629</td>\n",
       "      <td>2930.976357</td>\n",
       "      <td>6901.427807</td>\n",
       "      <td>92.829590</td>\n",
       "      <td>92.334350</td>\n",
       "      <td>3818.972791</td>\n",
       "      <td>54.111720</td>\n",
       "      <td>53.706107</td>\n",
       "      <td>123.624618</td>\n",
       "      <td>...</td>\n",
       "      <td>2.883301</td>\n",
       "      <td>184.647377</td>\n",
       "      <td>7.708661</td>\n",
       "      <td>10.682459</td>\n",
       "      <td>23.904570</td>\n",
       "      <td>66.804662</td>\n",
       "      <td>2.082970</td>\n",
       "      <td>75.623679</td>\n",
       "      <td>0.752183</td>\n",
       "      <td>35.291132</td>\n",
       "    </tr>\n",
       "  </tbody>\n",
       "</table>\n",
       "<p>6 rows × 37 columns</p>\n",
       "</div>"
      ],
      "text/plain": [
       "                 total_cases    new_cases  new_cases_smoothed  total_deaths  \\\n",
       "continent                                                                     \n",
       "Africa          10113.792524   136.116287          137.175160    240.725623   \n",
       "Asia            59415.573125   977.255451          955.906654   1276.492998   \n",
       "Europe          37820.496464   422.890934          412.125853   2624.442694   \n",
       "North America   99722.789530  1196.070604         1192.788122   4238.697852   \n",
       "Oceania          1756.100462    19.603926           19.728165     33.491917   \n",
       "South America  201078.221747  2939.927629         2930.976357   6901.427807   \n",
       "\n",
       "               new_deaths  new_deaths_smoothed  total_cases_per_million  \\\n",
       "continent                                                                 \n",
       "Africa           3.280607             3.314015               589.704121   \n",
       "Asia            17.748803            17.460741              2168.903693   \n",
       "Europe          18.075711            18.167889              2917.112410   \n",
       "North America   41.796242            41.965444              2072.218093   \n",
       "Oceania          0.570439             0.574407               660.550773   \n",
       "South America   92.829590            92.334350              3818.972791   \n",
       "\n",
       "               new_cases_per_million  new_cases_smoothed_per_million  \\\n",
       "continent                                                              \n",
       "Africa                      7.781089                        7.807032   \n",
       "Asia                       27.254323                       26.835739   \n",
       "Europe                     30.192458                       29.327617   \n",
       "North America              33.761150                       33.266514   \n",
       "Oceania                    14.905210                       13.842437   \n",
       "South America              54.111720                       53.706107   \n",
       "\n",
       "               total_deaths_per_million  ...  extreme_poverty  \\\n",
       "continent                                ...                    \n",
       "Africa                         9.738158  ...        32.933258   \n",
       "Asia                          19.690470  ...         5.366726   \n",
       "Europe                       131.295096  ...         0.932022   \n",
       "North America                 63.299044  ...         5.173202   \n",
       "Oceania                       11.795349  ...         0.924432   \n",
       "South America                123.624618  ...         2.883301   \n",
       "\n",
       "               cardiovasc_death_rate  diabetes_prevalence  female_smokers  \\\n",
       "continent                                                                   \n",
       "Africa                    287.778410             5.700622        2.516542   \n",
       "Asia                      283.289355             9.474495        4.757509   \n",
       "Europe                    223.488644             6.417837       23.400574   \n",
       "North America             195.298945            10.807446        7.416255   \n",
       "Oceania                   271.883788            15.113437       14.874627   \n",
       "South America             184.647377             7.708661       10.682459   \n",
       "\n",
       "               male_smokers  handwashing_facilities  \\\n",
       "continent                                             \n",
       "Africa            27.425523               26.643491   \n",
       "Asia              39.369841               71.715906   \n",
       "Europe            34.981486               94.025573   \n",
       "North America     22.081987               77.263318   \n",
       "Oceania           27.591940                     NaN   \n",
       "South America     23.904570               66.804662   \n",
       "\n",
       "               hospital_beds_per_thousand  life_expectancy  \\\n",
       "continent                                                    \n",
       "Africa                           1.511971        64.409414   \n",
       "Asia                             2.878598        74.685479   \n",
       "Europe                           5.175416        79.948043   \n",
       "North America                    2.295832        76.713712   \n",
       "Oceania                          2.939591        76.566304   \n",
       "South America                    2.082970        75.623679   \n",
       "\n",
       "               human_development_index    smokers  \n",
       "continent                                          \n",
       "Africa                        0.548640  29.942064  \n",
       "Asia                          0.732031  44.127349  \n",
       "Europe                        0.869211  58.382059  \n",
       "North America                 0.752306  29.902293  \n",
       "Oceania                       0.806015  42.466567  \n",
       "South America                 0.752183  35.291132  \n",
       "\n",
       "[6 rows x 37 columns]"
      ]
     },
     "execution_count": 20,
     "metadata": {},
     "output_type": "execute_result"
    }
   ],
   "source": [
    "df_completo.groupby(['continent']).mean()"
   ]
  },
  {
   "cell_type": "code",
   "execution_count": 21,
   "metadata": {},
   "outputs": [
    {
     "data": {
      "text/html": [
       "<div>\n",
       "<style scoped>\n",
       "    .dataframe tbody tr th:only-of-type {\n",
       "        vertical-align: middle;\n",
       "    }\n",
       "\n",
       "    .dataframe tbody tr th {\n",
       "        vertical-align: top;\n",
       "    }\n",
       "\n",
       "    .dataframe thead th {\n",
       "        text-align: right;\n",
       "    }\n",
       "</style>\n",
       "<table border=\"1\" class=\"dataframe\">\n",
       "  <thead>\n",
       "    <tr style=\"text-align: right;\">\n",
       "      <th></th>\n",
       "      <th>smokers_rate</th>\n",
       "      <th>death_rate</th>\n",
       "    </tr>\n",
       "  </thead>\n",
       "  <tbody>\n",
       "    <tr>\n",
       "      <th>0</th>\n",
       "      <td>5.378220</td>\n",
       "      <td>1.227769</td>\n",
       "    </tr>\n",
       "    <tr>\n",
       "      <th>1</th>\n",
       "      <td>5.378220</td>\n",
       "      <td>1.227800</td>\n",
       "    </tr>\n",
       "    <tr>\n",
       "      <th>2</th>\n",
       "      <td>5.378220</td>\n",
       "      <td>1.227820</td>\n",
       "    </tr>\n",
       "    <tr>\n",
       "      <th>3</th>\n",
       "      <td>5.378220</td>\n",
       "      <td>1.227820</td>\n",
       "    </tr>\n",
       "    <tr>\n",
       "      <th>4</th>\n",
       "      <td>5.378220</td>\n",
       "      <td>1.227891</td>\n",
       "    </tr>\n",
       "    <tr>\n",
       "      <th>...</th>\n",
       "      <td>...</td>\n",
       "      <td>...</td>\n",
       "    </tr>\n",
       "    <tr>\n",
       "      <th>3857</th>\n",
       "      <td>0.319931</td>\n",
       "      <td>1.226136</td>\n",
       "    </tr>\n",
       "    <tr>\n",
       "      <th>3858</th>\n",
       "      <td>0.319931</td>\n",
       "      <td>1.226430</td>\n",
       "    </tr>\n",
       "    <tr>\n",
       "      <th>3859</th>\n",
       "      <td>0.319931</td>\n",
       "      <td>1.226811</td>\n",
       "    </tr>\n",
       "    <tr>\n",
       "      <th>3860</th>\n",
       "      <td>0.319931</td>\n",
       "      <td>1.226986</td>\n",
       "    </tr>\n",
       "    <tr>\n",
       "      <th>3861</th>\n",
       "      <td>0.319931</td>\n",
       "      <td>1.227084</td>\n",
       "    </tr>\n",
       "  </tbody>\n",
       "</table>\n",
       "<p>3862 rows × 2 columns</p>\n",
       "</div>"
      ],
      "text/plain": [
       "      smokers_rate  death_rate\n",
       "0         5.378220    1.227769\n",
       "1         5.378220    1.227800\n",
       "2         5.378220    1.227820\n",
       "3         5.378220    1.227820\n",
       "4         5.378220    1.227891\n",
       "...            ...         ...\n",
       "3857      0.319931    1.226136\n",
       "3858      0.319931    1.226430\n",
       "3859      0.319931    1.226811\n",
       "3860      0.319931    1.226986\n",
       "3861      0.319931    1.227084\n",
       "\n",
       "[3862 rows x 2 columns]"
      ]
     },
     "execution_count": 21,
     "metadata": {},
     "output_type": "execute_result"
    }
   ],
   "source": [
    "x1 = df_completo.dropna()\n",
    "\n",
    "y1 = x1['continent']\n",
    "y1 = y1.values\n",
    "\n",
    "#droping nominal comlumns\n",
    "# x = x.drop(columns = ['location','iso_code','date','continent'], axis=1) \n",
    "x1 = x1.select_dtypes(include=['float64'])\n",
    "\n",
    "#normalizing\n",
    "x1 = (x1-x1.mean())/x1.std()\n",
    "\n",
    "#transform into categorical data \n",
    "for i in range (len(y1)):\n",
    "    if y1[i] == \"Africa\":\n",
    "        y1[i] = 0\n",
    "    if y1[i] == \"Asia\":\n",
    "        y1[i] = 1\n",
    "    if y1[i] == \"Europe\":\n",
    "        y1[i] = 2\n",
    "    if y1[i] == \"North America\":\n",
    "        y1[i] = 3\n",
    "    if y1[i] == \"Oceania\":\n",
    "        y1[i] = 4\n",
    "    if y1[i] == \"South America\":\n",
    "        y1[i] = 5\n",
    "        \n",
    "y1 = pd.DataFrame(data=y1, columns=[\"continent\"])\n",
    "y1=y1.astype('int')\n",
    "\n",
    "data = pd.DataFrame(y1['continent'])\n",
    "data['smokers_rate'] = x1['smokers'].values/x1['population'].values #taxa de fumantes\n",
    "data['death_rate'] = x1['total_deaths'].values / x1['total_cases'].values #taxa de mortes\n",
    "# data['smokers'] = x1['smokers'].values #nmr de fumantes\n",
    "data = data.drop(columns = ['continent'])\n",
    "data"
   ]
  },
  {
   "cell_type": "code",
   "execution_count": 22,
   "metadata": {},
   "outputs": [],
   "source": [
    "X_train, X_test, y_train, y_test = train_test_split(data, y1, test_size=0.3, random_state=42)"
   ]
  },
  {
   "cell_type": "code",
   "execution_count": 23,
   "metadata": {},
   "outputs": [],
   "source": [
    "from sklearn.ensemble import RandomForestClassifier"
   ]
  },
  {
   "cell_type": "code",
   "execution_count": 24,
   "metadata": {},
   "outputs": [
    {
     "name": "stderr",
     "output_type": "stream",
     "text": [
      "/home/rudda/anaconda3/lib/python3.7/site-packages/ipykernel_launcher.py:2: DataConversionWarning: A column-vector y was passed when a 1d array was expected. Please change the shape of y to (n_samples,), for example using ravel().\n",
      "  \n"
     ]
    },
    {
     "data": {
      "text/plain": [
       "RandomForestClassifier(bootstrap=True, ccp_alpha=0.0, class_weight=None,\n",
       "                       criterion='gini', max_depth=None, max_features='auto',\n",
       "                       max_leaf_nodes=None, max_samples=None,\n",
       "                       min_impurity_decrease=0.0, min_impurity_split=None,\n",
       "                       min_samples_leaf=1, min_samples_split=2,\n",
       "                       min_weight_fraction_leaf=0.0, n_estimators=100,\n",
       "                       n_jobs=None, oob_score=False, random_state=None,\n",
       "                       verbose=0, warm_start=False)"
      ]
     },
     "execution_count": 24,
     "metadata": {},
     "output_type": "execute_result"
    }
   ],
   "source": [
    "rf = RandomForestClassifier()\n",
    "rf.fit(X_train, y_train)\n"
   ]
  },
  {
   "cell_type": "code",
   "execution_count": 25,
   "metadata": {},
   "outputs": [],
   "source": [
    "from sklearn import metrics"
   ]
  },
  {
   "cell_type": "code",
   "execution_count": 26,
   "metadata": {},
   "outputs": [],
   "source": [
    "class_names=[]\n",
    "class_names.append(\"Africa\")\n",
    "class_names.append(\"Asia\")\n",
    "# class_names.append(\"Europe\")\n",
    "class_names.append(\"North America\")\n",
    "# class_names.append(\"Oceania\")\n",
    "class_names.append(\"South America\")"
   ]
  },
  {
   "cell_type": "code",
   "execution_count": 27,
   "metadata": {},
   "outputs": [
    {
     "name": "stdout",
     "output_type": "stream",
     "text": [
      "               precision    recall  f1-score   support\n",
      "\n",
      "       Africa       1.00      1.00      1.00       488\n",
      "         Asia       1.00      1.00      1.00       438\n",
      "North America       1.00      0.99      1.00       168\n",
      "South America       1.00      1.00      1.00        65\n",
      "\n",
      "     accuracy                           1.00      1159\n",
      "    macro avg       1.00      1.00      1.00      1159\n",
      " weighted avg       1.00      1.00      1.00      1159\n",
      "\n"
     ]
    }
   ],
   "source": [
    "from sklearn.metrics import classification_report\n",
    "print(classification_report(y_test, rf.predict(X_test), target_names=class_names))"
   ]
  },
  {
   "cell_type": "markdown",
   "metadata": {},
   "source": [
    "    Feature importance"
   ]
  },
  {
   "cell_type": "code",
   "execution_count": 29,
   "metadata": {},
   "outputs": [
    {
     "data": {
      "application/vnd.plotly.v1+json": {
       "config": {
        "plotlyServerURL": "https://plot.ly"
       },
       "data": [
        {
         "alignmentgroup": "True",
         "hovertemplate": "cols=%{x}<br>imps=%{y}<extra></extra>",
         "legendgroup": "",
         "marker": {
          "color": "#636efa"
         },
         "name": "",
         "offsetgroup": "",
         "orientation": "v",
         "showlegend": false,
         "textposition": "auto",
         "type": "bar",
         "x": [
          "death_rate",
          "smokers_rate"
         ],
         "xaxis": "x",
         "y": [
          0.2791360194237701,
          0.7208639805762299
         ],
         "yaxis": "y"
        }
       ],
       "layout": {
        "barmode": "relative",
        "legend": {
         "tracegroupgap": 0
        },
        "margin": {
         "t": 60
        },
        "template": {
         "data": {
          "bar": [
           {
            "error_x": {
             "color": "#2a3f5f"
            },
            "error_y": {
             "color": "#2a3f5f"
            },
            "marker": {
             "line": {
              "color": "#E5ECF6",
              "width": 0.5
             }
            },
            "type": "bar"
           }
          ],
          "barpolar": [
           {
            "marker": {
             "line": {
              "color": "#E5ECF6",
              "width": 0.5
             }
            },
            "type": "barpolar"
           }
          ],
          "carpet": [
           {
            "aaxis": {
             "endlinecolor": "#2a3f5f",
             "gridcolor": "white",
             "linecolor": "white",
             "minorgridcolor": "white",
             "startlinecolor": "#2a3f5f"
            },
            "baxis": {
             "endlinecolor": "#2a3f5f",
             "gridcolor": "white",
             "linecolor": "white",
             "minorgridcolor": "white",
             "startlinecolor": "#2a3f5f"
            },
            "type": "carpet"
           }
          ],
          "choropleth": [
           {
            "colorbar": {
             "outlinewidth": 0,
             "ticks": ""
            },
            "type": "choropleth"
           }
          ],
          "contour": [
           {
            "colorbar": {
             "outlinewidth": 0,
             "ticks": ""
            },
            "colorscale": [
             [
              0,
              "#0d0887"
             ],
             [
              0.1111111111111111,
              "#46039f"
             ],
             [
              0.2222222222222222,
              "#7201a8"
             ],
             [
              0.3333333333333333,
              "#9c179e"
             ],
             [
              0.4444444444444444,
              "#bd3786"
             ],
             [
              0.5555555555555556,
              "#d8576b"
             ],
             [
              0.6666666666666666,
              "#ed7953"
             ],
             [
              0.7777777777777778,
              "#fb9f3a"
             ],
             [
              0.8888888888888888,
              "#fdca26"
             ],
             [
              1,
              "#f0f921"
             ]
            ],
            "type": "contour"
           }
          ],
          "contourcarpet": [
           {
            "colorbar": {
             "outlinewidth": 0,
             "ticks": ""
            },
            "type": "contourcarpet"
           }
          ],
          "heatmap": [
           {
            "colorbar": {
             "outlinewidth": 0,
             "ticks": ""
            },
            "colorscale": [
             [
              0,
              "#0d0887"
             ],
             [
              0.1111111111111111,
              "#46039f"
             ],
             [
              0.2222222222222222,
              "#7201a8"
             ],
             [
              0.3333333333333333,
              "#9c179e"
             ],
             [
              0.4444444444444444,
              "#bd3786"
             ],
             [
              0.5555555555555556,
              "#d8576b"
             ],
             [
              0.6666666666666666,
              "#ed7953"
             ],
             [
              0.7777777777777778,
              "#fb9f3a"
             ],
             [
              0.8888888888888888,
              "#fdca26"
             ],
             [
              1,
              "#f0f921"
             ]
            ],
            "type": "heatmap"
           }
          ],
          "heatmapgl": [
           {
            "colorbar": {
             "outlinewidth": 0,
             "ticks": ""
            },
            "colorscale": [
             [
              0,
              "#0d0887"
             ],
             [
              0.1111111111111111,
              "#46039f"
             ],
             [
              0.2222222222222222,
              "#7201a8"
             ],
             [
              0.3333333333333333,
              "#9c179e"
             ],
             [
              0.4444444444444444,
              "#bd3786"
             ],
             [
              0.5555555555555556,
              "#d8576b"
             ],
             [
              0.6666666666666666,
              "#ed7953"
             ],
             [
              0.7777777777777778,
              "#fb9f3a"
             ],
             [
              0.8888888888888888,
              "#fdca26"
             ],
             [
              1,
              "#f0f921"
             ]
            ],
            "type": "heatmapgl"
           }
          ],
          "histogram": [
           {
            "marker": {
             "colorbar": {
              "outlinewidth": 0,
              "ticks": ""
             }
            },
            "type": "histogram"
           }
          ],
          "histogram2d": [
           {
            "colorbar": {
             "outlinewidth": 0,
             "ticks": ""
            },
            "colorscale": [
             [
              0,
              "#0d0887"
             ],
             [
              0.1111111111111111,
              "#46039f"
             ],
             [
              0.2222222222222222,
              "#7201a8"
             ],
             [
              0.3333333333333333,
              "#9c179e"
             ],
             [
              0.4444444444444444,
              "#bd3786"
             ],
             [
              0.5555555555555556,
              "#d8576b"
             ],
             [
              0.6666666666666666,
              "#ed7953"
             ],
             [
              0.7777777777777778,
              "#fb9f3a"
             ],
             [
              0.8888888888888888,
              "#fdca26"
             ],
             [
              1,
              "#f0f921"
             ]
            ],
            "type": "histogram2d"
           }
          ],
          "histogram2dcontour": [
           {
            "colorbar": {
             "outlinewidth": 0,
             "ticks": ""
            },
            "colorscale": [
             [
              0,
              "#0d0887"
             ],
             [
              0.1111111111111111,
              "#46039f"
             ],
             [
              0.2222222222222222,
              "#7201a8"
             ],
             [
              0.3333333333333333,
              "#9c179e"
             ],
             [
              0.4444444444444444,
              "#bd3786"
             ],
             [
              0.5555555555555556,
              "#d8576b"
             ],
             [
              0.6666666666666666,
              "#ed7953"
             ],
             [
              0.7777777777777778,
              "#fb9f3a"
             ],
             [
              0.8888888888888888,
              "#fdca26"
             ],
             [
              1,
              "#f0f921"
             ]
            ],
            "type": "histogram2dcontour"
           }
          ],
          "mesh3d": [
           {
            "colorbar": {
             "outlinewidth": 0,
             "ticks": ""
            },
            "type": "mesh3d"
           }
          ],
          "parcoords": [
           {
            "line": {
             "colorbar": {
              "outlinewidth": 0,
              "ticks": ""
             }
            },
            "type": "parcoords"
           }
          ],
          "pie": [
           {
            "automargin": true,
            "type": "pie"
           }
          ],
          "scatter": [
           {
            "marker": {
             "colorbar": {
              "outlinewidth": 0,
              "ticks": ""
             }
            },
            "type": "scatter"
           }
          ],
          "scatter3d": [
           {
            "line": {
             "colorbar": {
              "outlinewidth": 0,
              "ticks": ""
             }
            },
            "marker": {
             "colorbar": {
              "outlinewidth": 0,
              "ticks": ""
             }
            },
            "type": "scatter3d"
           }
          ],
          "scattercarpet": [
           {
            "marker": {
             "colorbar": {
              "outlinewidth": 0,
              "ticks": ""
             }
            },
            "type": "scattercarpet"
           }
          ],
          "scattergeo": [
           {
            "marker": {
             "colorbar": {
              "outlinewidth": 0,
              "ticks": ""
             }
            },
            "type": "scattergeo"
           }
          ],
          "scattergl": [
           {
            "marker": {
             "colorbar": {
              "outlinewidth": 0,
              "ticks": ""
             }
            },
            "type": "scattergl"
           }
          ],
          "scattermapbox": [
           {
            "marker": {
             "colorbar": {
              "outlinewidth": 0,
              "ticks": ""
             }
            },
            "type": "scattermapbox"
           }
          ],
          "scatterpolar": [
           {
            "marker": {
             "colorbar": {
              "outlinewidth": 0,
              "ticks": ""
             }
            },
            "type": "scatterpolar"
           }
          ],
          "scatterpolargl": [
           {
            "marker": {
             "colorbar": {
              "outlinewidth": 0,
              "ticks": ""
             }
            },
            "type": "scatterpolargl"
           }
          ],
          "scatterternary": [
           {
            "marker": {
             "colorbar": {
              "outlinewidth": 0,
              "ticks": ""
             }
            },
            "type": "scatterternary"
           }
          ],
          "surface": [
           {
            "colorbar": {
             "outlinewidth": 0,
             "ticks": ""
            },
            "colorscale": [
             [
              0,
              "#0d0887"
             ],
             [
              0.1111111111111111,
              "#46039f"
             ],
             [
              0.2222222222222222,
              "#7201a8"
             ],
             [
              0.3333333333333333,
              "#9c179e"
             ],
             [
              0.4444444444444444,
              "#bd3786"
             ],
             [
              0.5555555555555556,
              "#d8576b"
             ],
             [
              0.6666666666666666,
              "#ed7953"
             ],
             [
              0.7777777777777778,
              "#fb9f3a"
             ],
             [
              0.8888888888888888,
              "#fdca26"
             ],
             [
              1,
              "#f0f921"
             ]
            ],
            "type": "surface"
           }
          ],
          "table": [
           {
            "cells": {
             "fill": {
              "color": "#EBF0F8"
             },
             "line": {
              "color": "white"
             }
            },
            "header": {
             "fill": {
              "color": "#C8D4E3"
             },
             "line": {
              "color": "white"
             }
            },
            "type": "table"
           }
          ]
         },
         "layout": {
          "annotationdefaults": {
           "arrowcolor": "#2a3f5f",
           "arrowhead": 0,
           "arrowwidth": 1
          },
          "coloraxis": {
           "colorbar": {
            "outlinewidth": 0,
            "ticks": ""
           }
          },
          "colorscale": {
           "diverging": [
            [
             0,
             "#8e0152"
            ],
            [
             0.1,
             "#c51b7d"
            ],
            [
             0.2,
             "#de77ae"
            ],
            [
             0.3,
             "#f1b6da"
            ],
            [
             0.4,
             "#fde0ef"
            ],
            [
             0.5,
             "#f7f7f7"
            ],
            [
             0.6,
             "#e6f5d0"
            ],
            [
             0.7,
             "#b8e186"
            ],
            [
             0.8,
             "#7fbc41"
            ],
            [
             0.9,
             "#4d9221"
            ],
            [
             1,
             "#276419"
            ]
           ],
           "sequential": [
            [
             0,
             "#0d0887"
            ],
            [
             0.1111111111111111,
             "#46039f"
            ],
            [
             0.2222222222222222,
             "#7201a8"
            ],
            [
             0.3333333333333333,
             "#9c179e"
            ],
            [
             0.4444444444444444,
             "#bd3786"
            ],
            [
             0.5555555555555556,
             "#d8576b"
            ],
            [
             0.6666666666666666,
             "#ed7953"
            ],
            [
             0.7777777777777778,
             "#fb9f3a"
            ],
            [
             0.8888888888888888,
             "#fdca26"
            ],
            [
             1,
             "#f0f921"
            ]
           ],
           "sequentialminus": [
            [
             0,
             "#0d0887"
            ],
            [
             0.1111111111111111,
             "#46039f"
            ],
            [
             0.2222222222222222,
             "#7201a8"
            ],
            [
             0.3333333333333333,
             "#9c179e"
            ],
            [
             0.4444444444444444,
             "#bd3786"
            ],
            [
             0.5555555555555556,
             "#d8576b"
            ],
            [
             0.6666666666666666,
             "#ed7953"
            ],
            [
             0.7777777777777778,
             "#fb9f3a"
            ],
            [
             0.8888888888888888,
             "#fdca26"
            ],
            [
             1,
             "#f0f921"
            ]
           ]
          },
          "colorway": [
           "#636efa",
           "#EF553B",
           "#00cc96",
           "#ab63fa",
           "#FFA15A",
           "#19d3f3",
           "#FF6692",
           "#B6E880",
           "#FF97FF",
           "#FECB52"
          ],
          "font": {
           "color": "#2a3f5f"
          },
          "geo": {
           "bgcolor": "white",
           "lakecolor": "white",
           "landcolor": "#E5ECF6",
           "showlakes": true,
           "showland": true,
           "subunitcolor": "white"
          },
          "hoverlabel": {
           "align": "left"
          },
          "hovermode": "closest",
          "mapbox": {
           "style": "light"
          },
          "paper_bgcolor": "white",
          "plot_bgcolor": "#E5ECF6",
          "polar": {
           "angularaxis": {
            "gridcolor": "white",
            "linecolor": "white",
            "ticks": ""
           },
           "bgcolor": "#E5ECF6",
           "radialaxis": {
            "gridcolor": "white",
            "linecolor": "white",
            "ticks": ""
           }
          },
          "scene": {
           "xaxis": {
            "backgroundcolor": "#E5ECF6",
            "gridcolor": "white",
            "gridwidth": 2,
            "linecolor": "white",
            "showbackground": true,
            "ticks": "",
            "zerolinecolor": "white"
           },
           "yaxis": {
            "backgroundcolor": "#E5ECF6",
            "gridcolor": "white",
            "gridwidth": 2,
            "linecolor": "white",
            "showbackground": true,
            "ticks": "",
            "zerolinecolor": "white"
           },
           "zaxis": {
            "backgroundcolor": "#E5ECF6",
            "gridcolor": "white",
            "gridwidth": 2,
            "linecolor": "white",
            "showbackground": true,
            "ticks": "",
            "zerolinecolor": "white"
           }
          },
          "shapedefaults": {
           "line": {
            "color": "#2a3f5f"
           }
          },
          "ternary": {
           "aaxis": {
            "gridcolor": "white",
            "linecolor": "white",
            "ticks": ""
           },
           "baxis": {
            "gridcolor": "white",
            "linecolor": "white",
            "ticks": ""
           },
           "bgcolor": "#E5ECF6",
           "caxis": {
            "gridcolor": "white",
            "linecolor": "white",
            "ticks": ""
           }
          },
          "title": {
           "x": 0.05
          },
          "xaxis": {
           "automargin": true,
           "gridcolor": "white",
           "linecolor": "white",
           "ticks": "",
           "title": {
            "standoff": 15
           },
           "zerolinecolor": "white",
           "zerolinewidth": 2
          },
          "yaxis": {
           "automargin": true,
           "gridcolor": "white",
           "linecolor": "white",
           "ticks": "",
           "title": {
            "standoff": 15
           },
           "zerolinecolor": "white",
           "zerolinewidth": 2
          }
         }
        },
        "xaxis": {
         "anchor": "y",
         "domain": [
          0,
          1
         ],
         "title": {
          "text": "cols"
         }
        },
        "yaxis": {
         "anchor": "x",
         "domain": [
          0,
          1
         ],
         "title": {
          "text": "imps"
         }
        }
       }
      },
      "text/html": [
       "<div>                            <div id=\"d446bae0-5611-4fad-828f-3335ecbbdb28\" class=\"plotly-graph-div\" style=\"height:525px; width:100%;\"></div>            <script type=\"text/javascript\">                require([\"plotly\"], function(Plotly) {                    window.PLOTLYENV=window.PLOTLYENV || {};                                    if (document.getElementById(\"d446bae0-5611-4fad-828f-3335ecbbdb28\")) {                    Plotly.newPlot(                        \"d446bae0-5611-4fad-828f-3335ecbbdb28\",                        [{\"alignmentgroup\": \"True\", \"hovertemplate\": \"cols=%{x}<br>imps=%{y}<extra></extra>\", \"legendgroup\": \"\", \"marker\": {\"color\": \"#636efa\"}, \"name\": \"\", \"offsetgroup\": \"\", \"orientation\": \"v\", \"showlegend\": false, \"textposition\": \"auto\", \"type\": \"bar\", \"x\": [\"death_rate\", \"smokers_rate\"], \"xaxis\": \"x\", \"y\": [0.2791360194237701, 0.7208639805762299], \"yaxis\": \"y\"}],                        {\"barmode\": \"relative\", \"legend\": {\"tracegroupgap\": 0}, \"margin\": {\"t\": 60}, \"template\": {\"data\": {\"bar\": [{\"error_x\": {\"color\": \"#2a3f5f\"}, \"error_y\": {\"color\": \"#2a3f5f\"}, \"marker\": {\"line\": {\"color\": \"#E5ECF6\", \"width\": 0.5}}, \"type\": \"bar\"}], \"barpolar\": [{\"marker\": {\"line\": {\"color\": \"#E5ECF6\", \"width\": 0.5}}, \"type\": \"barpolar\"}], \"carpet\": [{\"aaxis\": {\"endlinecolor\": \"#2a3f5f\", \"gridcolor\": \"white\", \"linecolor\": \"white\", \"minorgridcolor\": \"white\", \"startlinecolor\": \"#2a3f5f\"}, \"baxis\": {\"endlinecolor\": \"#2a3f5f\", \"gridcolor\": \"white\", \"linecolor\": \"white\", \"minorgridcolor\": \"white\", \"startlinecolor\": \"#2a3f5f\"}, \"type\": \"carpet\"}], \"choropleth\": [{\"colorbar\": {\"outlinewidth\": 0, \"ticks\": \"\"}, \"type\": \"choropleth\"}], \"contour\": [{\"colorbar\": {\"outlinewidth\": 0, \"ticks\": \"\"}, \"colorscale\": [[0.0, \"#0d0887\"], [0.1111111111111111, \"#46039f\"], [0.2222222222222222, \"#7201a8\"], [0.3333333333333333, \"#9c179e\"], [0.4444444444444444, \"#bd3786\"], [0.5555555555555556, \"#d8576b\"], [0.6666666666666666, \"#ed7953\"], [0.7777777777777778, \"#fb9f3a\"], [0.8888888888888888, \"#fdca26\"], [1.0, \"#f0f921\"]], \"type\": \"contour\"}], \"contourcarpet\": [{\"colorbar\": {\"outlinewidth\": 0, \"ticks\": \"\"}, \"type\": \"contourcarpet\"}], \"heatmap\": [{\"colorbar\": {\"outlinewidth\": 0, \"ticks\": \"\"}, \"colorscale\": [[0.0, \"#0d0887\"], [0.1111111111111111, \"#46039f\"], [0.2222222222222222, \"#7201a8\"], [0.3333333333333333, \"#9c179e\"], [0.4444444444444444, \"#bd3786\"], [0.5555555555555556, \"#d8576b\"], [0.6666666666666666, \"#ed7953\"], [0.7777777777777778, \"#fb9f3a\"], [0.8888888888888888, \"#fdca26\"], [1.0, \"#f0f921\"]], \"type\": \"heatmap\"}], \"heatmapgl\": [{\"colorbar\": {\"outlinewidth\": 0, \"ticks\": \"\"}, \"colorscale\": [[0.0, \"#0d0887\"], [0.1111111111111111, \"#46039f\"], [0.2222222222222222, \"#7201a8\"], [0.3333333333333333, \"#9c179e\"], [0.4444444444444444, \"#bd3786\"], [0.5555555555555556, \"#d8576b\"], [0.6666666666666666, \"#ed7953\"], [0.7777777777777778, \"#fb9f3a\"], [0.8888888888888888, \"#fdca26\"], [1.0, \"#f0f921\"]], \"type\": \"heatmapgl\"}], \"histogram\": [{\"marker\": {\"colorbar\": {\"outlinewidth\": 0, \"ticks\": \"\"}}, \"type\": \"histogram\"}], \"histogram2d\": [{\"colorbar\": {\"outlinewidth\": 0, \"ticks\": \"\"}, \"colorscale\": [[0.0, \"#0d0887\"], [0.1111111111111111, \"#46039f\"], [0.2222222222222222, \"#7201a8\"], [0.3333333333333333, \"#9c179e\"], [0.4444444444444444, \"#bd3786\"], [0.5555555555555556, \"#d8576b\"], [0.6666666666666666, \"#ed7953\"], [0.7777777777777778, \"#fb9f3a\"], [0.8888888888888888, \"#fdca26\"], [1.0, \"#f0f921\"]], \"type\": \"histogram2d\"}], \"histogram2dcontour\": [{\"colorbar\": {\"outlinewidth\": 0, \"ticks\": \"\"}, \"colorscale\": [[0.0, \"#0d0887\"], [0.1111111111111111, \"#46039f\"], [0.2222222222222222, \"#7201a8\"], [0.3333333333333333, \"#9c179e\"], [0.4444444444444444, \"#bd3786\"], [0.5555555555555556, \"#d8576b\"], [0.6666666666666666, \"#ed7953\"], [0.7777777777777778, \"#fb9f3a\"], [0.8888888888888888, \"#fdca26\"], [1.0, \"#f0f921\"]], \"type\": \"histogram2dcontour\"}], \"mesh3d\": [{\"colorbar\": {\"outlinewidth\": 0, \"ticks\": \"\"}, \"type\": \"mesh3d\"}], \"parcoords\": [{\"line\": {\"colorbar\": {\"outlinewidth\": 0, \"ticks\": \"\"}}, \"type\": \"parcoords\"}], \"pie\": [{\"automargin\": true, \"type\": \"pie\"}], \"scatter\": [{\"marker\": {\"colorbar\": {\"outlinewidth\": 0, \"ticks\": \"\"}}, \"type\": \"scatter\"}], \"scatter3d\": [{\"line\": {\"colorbar\": {\"outlinewidth\": 0, \"ticks\": \"\"}}, \"marker\": {\"colorbar\": {\"outlinewidth\": 0, \"ticks\": \"\"}}, \"type\": \"scatter3d\"}], \"scattercarpet\": [{\"marker\": {\"colorbar\": {\"outlinewidth\": 0, \"ticks\": \"\"}}, \"type\": \"scattercarpet\"}], \"scattergeo\": [{\"marker\": {\"colorbar\": {\"outlinewidth\": 0, \"ticks\": \"\"}}, \"type\": \"scattergeo\"}], \"scattergl\": [{\"marker\": {\"colorbar\": {\"outlinewidth\": 0, \"ticks\": \"\"}}, \"type\": \"scattergl\"}], \"scattermapbox\": [{\"marker\": {\"colorbar\": {\"outlinewidth\": 0, \"ticks\": \"\"}}, \"type\": \"scattermapbox\"}], \"scatterpolar\": [{\"marker\": {\"colorbar\": {\"outlinewidth\": 0, \"ticks\": \"\"}}, \"type\": \"scatterpolar\"}], \"scatterpolargl\": [{\"marker\": {\"colorbar\": {\"outlinewidth\": 0, \"ticks\": \"\"}}, \"type\": \"scatterpolargl\"}], \"scatterternary\": [{\"marker\": {\"colorbar\": {\"outlinewidth\": 0, \"ticks\": \"\"}}, \"type\": \"scatterternary\"}], \"surface\": [{\"colorbar\": {\"outlinewidth\": 0, \"ticks\": \"\"}, \"colorscale\": [[0.0, \"#0d0887\"], [0.1111111111111111, \"#46039f\"], [0.2222222222222222, \"#7201a8\"], [0.3333333333333333, \"#9c179e\"], [0.4444444444444444, \"#bd3786\"], [0.5555555555555556, \"#d8576b\"], [0.6666666666666666, \"#ed7953\"], [0.7777777777777778, \"#fb9f3a\"], [0.8888888888888888, \"#fdca26\"], [1.0, \"#f0f921\"]], \"type\": \"surface\"}], \"table\": [{\"cells\": {\"fill\": {\"color\": \"#EBF0F8\"}, \"line\": {\"color\": \"white\"}}, \"header\": {\"fill\": {\"color\": \"#C8D4E3\"}, \"line\": {\"color\": \"white\"}}, \"type\": \"table\"}]}, \"layout\": {\"annotationdefaults\": {\"arrowcolor\": \"#2a3f5f\", \"arrowhead\": 0, \"arrowwidth\": 1}, \"coloraxis\": {\"colorbar\": {\"outlinewidth\": 0, \"ticks\": \"\"}}, \"colorscale\": {\"diverging\": [[0, \"#8e0152\"], [0.1, \"#c51b7d\"], [0.2, \"#de77ae\"], [0.3, \"#f1b6da\"], [0.4, \"#fde0ef\"], [0.5, \"#f7f7f7\"], [0.6, \"#e6f5d0\"], [0.7, \"#b8e186\"], [0.8, \"#7fbc41\"], [0.9, \"#4d9221\"], [1, \"#276419\"]], \"sequential\": [[0.0, \"#0d0887\"], [0.1111111111111111, \"#46039f\"], [0.2222222222222222, \"#7201a8\"], [0.3333333333333333, \"#9c179e\"], [0.4444444444444444, \"#bd3786\"], [0.5555555555555556, \"#d8576b\"], [0.6666666666666666, \"#ed7953\"], [0.7777777777777778, \"#fb9f3a\"], [0.8888888888888888, \"#fdca26\"], [1.0, \"#f0f921\"]], \"sequentialminus\": [[0.0, \"#0d0887\"], [0.1111111111111111, \"#46039f\"], [0.2222222222222222, \"#7201a8\"], [0.3333333333333333, \"#9c179e\"], [0.4444444444444444, \"#bd3786\"], [0.5555555555555556, \"#d8576b\"], [0.6666666666666666, \"#ed7953\"], [0.7777777777777778, \"#fb9f3a\"], [0.8888888888888888, \"#fdca26\"], [1.0, \"#f0f921\"]]}, \"colorway\": [\"#636efa\", \"#EF553B\", \"#00cc96\", \"#ab63fa\", \"#FFA15A\", \"#19d3f3\", \"#FF6692\", \"#B6E880\", \"#FF97FF\", \"#FECB52\"], \"font\": {\"color\": \"#2a3f5f\"}, \"geo\": {\"bgcolor\": \"white\", \"lakecolor\": \"white\", \"landcolor\": \"#E5ECF6\", \"showlakes\": true, \"showland\": true, \"subunitcolor\": \"white\"}, \"hoverlabel\": {\"align\": \"left\"}, \"hovermode\": \"closest\", \"mapbox\": {\"style\": \"light\"}, \"paper_bgcolor\": \"white\", \"plot_bgcolor\": \"#E5ECF6\", \"polar\": {\"angularaxis\": {\"gridcolor\": \"white\", \"linecolor\": \"white\", \"ticks\": \"\"}, \"bgcolor\": \"#E5ECF6\", \"radialaxis\": {\"gridcolor\": \"white\", \"linecolor\": \"white\", \"ticks\": \"\"}}, \"scene\": {\"xaxis\": {\"backgroundcolor\": \"#E5ECF6\", \"gridcolor\": \"white\", \"gridwidth\": 2, \"linecolor\": \"white\", \"showbackground\": true, \"ticks\": \"\", \"zerolinecolor\": \"white\"}, \"yaxis\": {\"backgroundcolor\": \"#E5ECF6\", \"gridcolor\": \"white\", \"gridwidth\": 2, \"linecolor\": \"white\", \"showbackground\": true, \"ticks\": \"\", \"zerolinecolor\": \"white\"}, \"zaxis\": {\"backgroundcolor\": \"#E5ECF6\", \"gridcolor\": \"white\", \"gridwidth\": 2, \"linecolor\": \"white\", \"showbackground\": true, \"ticks\": \"\", \"zerolinecolor\": \"white\"}}, \"shapedefaults\": {\"line\": {\"color\": \"#2a3f5f\"}}, \"ternary\": {\"aaxis\": {\"gridcolor\": \"white\", \"linecolor\": \"white\", \"ticks\": \"\"}, \"baxis\": {\"gridcolor\": \"white\", \"linecolor\": \"white\", \"ticks\": \"\"}, \"bgcolor\": \"#E5ECF6\", \"caxis\": {\"gridcolor\": \"white\", \"linecolor\": \"white\", \"ticks\": \"\"}}, \"title\": {\"x\": 0.05}, \"xaxis\": {\"automargin\": true, \"gridcolor\": \"white\", \"linecolor\": \"white\", \"ticks\": \"\", \"title\": {\"standoff\": 15}, \"zerolinecolor\": \"white\", \"zerolinewidth\": 2}, \"yaxis\": {\"automargin\": true, \"gridcolor\": \"white\", \"linecolor\": \"white\", \"ticks\": \"\", \"title\": {\"standoff\": 15}, \"zerolinecolor\": \"white\", \"zerolinewidth\": 2}}}, \"xaxis\": {\"anchor\": \"y\", \"domain\": [0.0, 1.0], \"title\": {\"text\": \"cols\"}}, \"yaxis\": {\"anchor\": \"x\", \"domain\": [0.0, 1.0], \"title\": {\"text\": \"imps\"}}},                        {\"responsive\": true}                    ).then(function(){\n",
       "                            \n",
       "var gd = document.getElementById('d446bae0-5611-4fad-828f-3335ecbbdb28');\n",
       "var x = new MutationObserver(function (mutations, observer) {{\n",
       "        var display = window.getComputedStyle(gd).display;\n",
       "        if (!display || display === 'none') {{\n",
       "            console.log([gd, 'removed!']);\n",
       "            Plotly.purge(gd);\n",
       "            observer.disconnect();\n",
       "        }}\n",
       "}});\n",
       "\n",
       "// Listen for the removal of the full notebook cells\n",
       "var notebookContainer = gd.closest('#notebook-container');\n",
       "if (notebookContainer) {{\n",
       "    x.observe(notebookContainer, {childList: true});\n",
       "}}\n",
       "\n",
       "// Listen for the clearing of the current output cell\n",
       "var outputEl = gd.closest('.output');\n",
       "if (outputEl) {{\n",
       "    x.observe(outputEl, {childList: true});\n",
       "}}\n",
       "\n",
       "                        })                };                });            </script>        </div>"
      ]
     },
     "metadata": {},
     "output_type": "display_data"
    }
   ],
   "source": [
    "col_sorted_by_importance=rf.feature_importances_.argsort()\n",
    "feat_imp=pd.DataFrame({\n",
    "    'cols':data.columns[col_sorted_by_importance],\n",
    "    'imps':rf.feature_importances_[col_sorted_by_importance]\n",
    "})\n",
    "\n",
    "px.bar(feat_imp, x='cols', y='imps')"
   ]
  },
  {
   "cell_type": "markdown",
   "metadata": {},
   "source": []
  },
  {
   "cell_type": "markdown",
   "metadata": {},
   "source": [
    "# Considerações finais "
   ]
  },
  {
   "cell_type": "markdown",
   "metadata": {},
   "source": [
    "       Apesar dos dados se mostrarem extremamente desbalanceado, por causa da baixa padronização de informação disponível, e a pergunta inicial não ser respondida, nesta seção, conseguimos desenvolver muitos modelos estatísticos e podemos, ao longo dessa análise 5, aprender um pouco com os dados disponibilizados.\n",
    "   \n",
    "       A estrutura dessa análise 5 consistiu nos seguintes passos:\n",
    "           1-Análise exploratória dos dados (Logo nesta etapa percebemos que seria complexa a abordagem do problema)\n",
    "           2-Etapa de regressão levando em consideração dois algorítimos utilizados nas salas de ICD\n",
    "           3-Etapa de classificação utilizando um algoritmo não abordado em sala mas de relevância, o Random Forest"
   ]
  }
 ],
 "metadata": {
  "kernelspec": {
   "display_name": "Python 3",
   "language": "python",
   "name": "python3"
  },
  "language_info": {
   "codemirror_mode": {
    "name": "ipython",
    "version": 3
   },
   "file_extension": ".py",
   "mimetype": "text/x-python",
   "name": "python",
   "nbconvert_exporter": "python",
   "pygments_lexer": "ipython3",
   "version": "3.7.3"
  }
 },
 "nbformat": 4,
 "nbformat_minor": 4
}
